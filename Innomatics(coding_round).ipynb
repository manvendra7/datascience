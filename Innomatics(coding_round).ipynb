{
  "nbformat": 4,
  "nbformat_minor": 0,
  "metadata": {
    "colab": {
      "name": "Innomatics(coding_round).ipynb",
      "provenance": [],
      "collapsed_sections": []
    },
    "kernelspec": {
      "name": "python3",
      "display_name": "Python 3"
    }
  },
  "cells": [
    {
      "cell_type": "code",
      "metadata": {
        "id": "Jl4ThIq3YymJ",
        "colab_type": "code",
        "outputId": "2c8947d6-f53c-4088-d75c-419d891b505c",
        "colab": {
          "base_uri": "https://localhost:8080/",
          "height": 34
        }
      },
      "source": [
        "from google.colab import drive\n",
        "drive.mount('/content/drive') #mounting drive"
      ],
      "execution_count": 78,
      "outputs": [
        {
          "output_type": "stream",
          "text": [
            "Drive already mounted at /content/drive; to attempt to forcibly remount, call drive.mount(\"/content/drive\", force_remount=True).\n"
          ],
          "name": "stdout"
        }
      ]
    },
    {
      "cell_type": "code",
      "metadata": {
        "id": "1GWieD60ZhIj",
        "colab_type": "code",
        "colab": {}
      },
      "source": [
        "#importing necessary packages\n",
        "import pandas as pd\n",
        "import numpy as np\n",
        "from sklearn.decomposition import PCA\n",
        "from sklearn.preprocessing import LabelEncoder, StandardScaler\n",
        "import matplotlib.pyplot as plt\n",
        "import seaborn as sns\n",
        "from sklearn.model_selection import train_test_split"
      ],
      "execution_count": 0,
      "outputs": []
    },
    {
      "cell_type": "markdown",
      "metadata": {
        "id": "UL6knNxXbPmE",
        "colab_type": "text"
      },
      "source": [
        "##Reading Data"
      ]
    },
    {
      "cell_type": "code",
      "metadata": {
        "id": "aK9FuyBSV8Kp",
        "colab_type": "code",
        "colab": {}
      },
      "source": [
        "train = pd.read_csv('/content/drive/My Drive/innomatics/maf_train[1].csv',na_values='na') #reading the train data\n",
        "test = pd.read_csv('/content/drive/My Drive/innomatics/maf_test[1].csv',na_values='na') #reading the test data"
      ],
      "execution_count": 0,
      "outputs": []
    },
    {
      "cell_type": "code",
      "metadata": {
        "id": "IYMhnprbaFbF",
        "colab_type": "code",
        "outputId": "8d5cba9b-8d5c-472d-8f5e-bed41078a8c7",
        "colab": {
          "base_uri": "https://localhost:8080/",
          "height": 270
        }
      },
      "source": [
        "train.head(5) #checking the head of train data"
      ],
      "execution_count": 81,
      "outputs": [
        {
          "output_type": "execute_result",
          "data": {
            "text/html": [
              "<div>\n",
              "<style scoped>\n",
              "    .dataframe tbody tr th:only-of-type {\n",
              "        vertical-align: middle;\n",
              "    }\n",
              "\n",
              "    .dataframe tbody tr th {\n",
              "        vertical-align: top;\n",
              "    }\n",
              "\n",
              "    .dataframe thead th {\n",
              "        text-align: right;\n",
              "    }\n",
              "</style>\n",
              "<table border=\"1\" class=\"dataframe\">\n",
              "  <thead>\n",
              "    <tr style=\"text-align: right;\">\n",
              "      <th></th>\n",
              "      <th>Unnamed: 0</th>\n",
              "      <th>0</th>\n",
              "      <th>1</th>\n",
              "      <th>2</th>\n",
              "      <th>3</th>\n",
              "      <th>4</th>\n",
              "      <th>5</th>\n",
              "      <th>6</th>\n",
              "      <th>7</th>\n",
              "      <th>8</th>\n",
              "      <th>9</th>\n",
              "      <th>10</th>\n",
              "      <th>11</th>\n",
              "      <th>12</th>\n",
              "      <th>13</th>\n",
              "      <th>14</th>\n",
              "      <th>15</th>\n",
              "      <th>16</th>\n",
              "      <th>17</th>\n",
              "      <th>18</th>\n",
              "      <th>19</th>\n",
              "      <th>20</th>\n",
              "      <th>21</th>\n",
              "      <th>22</th>\n",
              "      <th>23</th>\n",
              "      <th>24</th>\n",
              "      <th>25</th>\n",
              "      <th>26</th>\n",
              "      <th>27</th>\n",
              "      <th>28</th>\n",
              "      <th>29</th>\n",
              "      <th>30</th>\n",
              "      <th>31</th>\n",
              "      <th>32</th>\n",
              "      <th>33</th>\n",
              "      <th>34</th>\n",
              "      <th>35</th>\n",
              "      <th>36</th>\n",
              "      <th>37</th>\n",
              "      <th>38</th>\n",
              "      <th>...</th>\n",
              "      <th>131</th>\n",
              "      <th>132</th>\n",
              "      <th>133</th>\n",
              "      <th>134</th>\n",
              "      <th>135</th>\n",
              "      <th>136</th>\n",
              "      <th>137</th>\n",
              "      <th>138</th>\n",
              "      <th>139</th>\n",
              "      <th>140</th>\n",
              "      <th>141</th>\n",
              "      <th>142</th>\n",
              "      <th>143</th>\n",
              "      <th>144</th>\n",
              "      <th>145</th>\n",
              "      <th>146</th>\n",
              "      <th>147</th>\n",
              "      <th>148</th>\n",
              "      <th>149</th>\n",
              "      <th>150</th>\n",
              "      <th>151</th>\n",
              "      <th>152</th>\n",
              "      <th>153</th>\n",
              "      <th>154</th>\n",
              "      <th>155</th>\n",
              "      <th>156</th>\n",
              "      <th>157</th>\n",
              "      <th>158</th>\n",
              "      <th>159</th>\n",
              "      <th>160</th>\n",
              "      <th>161</th>\n",
              "      <th>162</th>\n",
              "      <th>163</th>\n",
              "      <th>164</th>\n",
              "      <th>165</th>\n",
              "      <th>166</th>\n",
              "      <th>167</th>\n",
              "      <th>168</th>\n",
              "      <th>169</th>\n",
              "      <th>target</th>\n",
              "    </tr>\n",
              "  </thead>\n",
              "  <tbody>\n",
              "    <tr>\n",
              "      <th>0</th>\n",
              "      <td>0</td>\n",
              "      <td>4</td>\n",
              "      <td>NaN</td>\n",
              "      <td>2.000000e+01</td>\n",
              "      <td>8.0</td>\n",
              "      <td>0.0</td>\n",
              "      <td>0.0</td>\n",
              "      <td>0.0</td>\n",
              "      <td>0.0</td>\n",
              "      <td>0.0</td>\n",
              "      <td>0.0</td>\n",
              "      <td>38.0</td>\n",
              "      <td>2504.0</td>\n",
              "      <td>2392.0</td>\n",
              "      <td>0.0</td>\n",
              "      <td>0.0</td>\n",
              "      <td>0.0</td>\n",
              "      <td>1666.0</td>\n",
              "      <td>0.0</td>\n",
              "      <td>446.0</td>\n",
              "      <td>0.0</td>\n",
              "      <td>0.0</td>\n",
              "      <td>0.0</td>\n",
              "      <td>20106.0</td>\n",
              "      <td>18030.0</td>\n",
              "      <td>10664.0</td>\n",
              "      <td>300.0</td>\n",
              "      <td>0.0</td>\n",
              "      <td>0.0</td>\n",
              "      <td>0.0</td>\n",
              "      <td>0.0</td>\n",
              "      <td>14.0</td>\n",
              "      <td>26.0</td>\n",
              "      <td>0.0</td>\n",
              "      <td>0.0</td>\n",
              "      <td>0.0</td>\n",
              "      <td>0.0</td>\n",
              "      <td>0.0</td>\n",
              "      <td>0.0</td>\n",
              "      <td>0.0</td>\n",
              "      <td>...</td>\n",
              "      <td>1754.0</td>\n",
              "      <td>42.0</td>\n",
              "      <td>94.0</td>\n",
              "      <td>0.0</td>\n",
              "      <td>0.0</td>\n",
              "      <td>0.0</td>\n",
              "      <td>0.0</td>\n",
              "      <td>0.0</td>\n",
              "      <td>0.0</td>\n",
              "      <td>0.0</td>\n",
              "      <td>0.0</td>\n",
              "      <td>128.0</td>\n",
              "      <td>0.0</td>\n",
              "      <td>0.0</td>\n",
              "      <td>1162.0</td>\n",
              "      <td>140.0</td>\n",
              "      <td>62.0</td>\n",
              "      <td>12.0</td>\n",
              "      <td>360.0</td>\n",
              "      <td>144.0</td>\n",
              "      <td>31676.0</td>\n",
              "      <td>14.0</td>\n",
              "      <td>0.0</td>\n",
              "      <td>0.0</td>\n",
              "      <td>0.0</td>\n",
              "      <td>0.00</td>\n",
              "      <td>0.0</td>\n",
              "      <td>3500.0</td>\n",
              "      <td>1268.0</td>\n",
              "      <td>24.0</td>\n",
              "      <td>16.0</td>\n",
              "      <td>28.0</td>\n",
              "      <td>24.0</td>\n",
              "      <td>26.0</td>\n",
              "      <td>48.0</td>\n",
              "      <td>0.0</td>\n",
              "      <td>0.0</td>\n",
              "      <td>0.0</td>\n",
              "      <td>0.0</td>\n",
              "      <td>False</td>\n",
              "    </tr>\n",
              "    <tr>\n",
              "      <th>1</th>\n",
              "      <td>1</td>\n",
              "      <td>192902</td>\n",
              "      <td>NaN</td>\n",
              "      <td>NaN</td>\n",
              "      <td>NaN</td>\n",
              "      <td>NaN</td>\n",
              "      <td>NaN</td>\n",
              "      <td>0.0</td>\n",
              "      <td>0.0</td>\n",
              "      <td>0.0</td>\n",
              "      <td>1036044.0</td>\n",
              "      <td>6044554.0</td>\n",
              "      <td>6243624.0</td>\n",
              "      <td>1845798.0</td>\n",
              "      <td>140682.0</td>\n",
              "      <td>2844.0</td>\n",
              "      <td>0.0</td>\n",
              "      <td>4657068.0</td>\n",
              "      <td>0.0</td>\n",
              "      <td>6502.0</td>\n",
              "      <td>NaN</td>\n",
              "      <td>303054.0</td>\n",
              "      <td>504304.0</td>\n",
              "      <td>15370854.0</td>\n",
              "      <td>14883810.0</td>\n",
              "      <td>2202728.0</td>\n",
              "      <td>642438.0</td>\n",
              "      <td>NaN</td>\n",
              "      <td>0.0</td>\n",
              "      <td>0.0</td>\n",
              "      <td>0.0</td>\n",
              "      <td>NaN</td>\n",
              "      <td>NaN</td>\n",
              "      <td>0.0</td>\n",
              "      <td>0.0</td>\n",
              "      <td>0.0</td>\n",
              "      <td>0.0</td>\n",
              "      <td>0.0</td>\n",
              "      <td>0.0</td>\n",
              "      <td>2102.0</td>\n",
              "      <td>...</td>\n",
              "      <td>9869694.0</td>\n",
              "      <td>NaN</td>\n",
              "      <td>NaN</td>\n",
              "      <td>NaN</td>\n",
              "      <td>NaN</td>\n",
              "      <td>NaN</td>\n",
              "      <td>NaN</td>\n",
              "      <td>NaN</td>\n",
              "      <td>NaN</td>\n",
              "      <td>NaN</td>\n",
              "      <td>NaN</td>\n",
              "      <td>58028.0</td>\n",
              "      <td>NaN</td>\n",
              "      <td>NaN</td>\n",
              "      <td>NaN</td>\n",
              "      <td>NaN</td>\n",
              "      <td>NaN</td>\n",
              "      <td>NaN</td>\n",
              "      <td>NaN</td>\n",
              "      <td>NaN</td>\n",
              "      <td>NaN</td>\n",
              "      <td>NaN</td>\n",
              "      <td>NaN</td>\n",
              "      <td>NaN</td>\n",
              "      <td>NaN</td>\n",
              "      <td>NaN</td>\n",
              "      <td>NaN</td>\n",
              "      <td>4749816.0</td>\n",
              "      <td>2191626.0</td>\n",
              "      <td>1539280.0</td>\n",
              "      <td>621668.0</td>\n",
              "      <td>809812.0</td>\n",
              "      <td>435744.0</td>\n",
              "      <td>650766.0</td>\n",
              "      <td>4301142.0</td>\n",
              "      <td>13692.0</td>\n",
              "      <td>0.0</td>\n",
              "      <td>NaN</td>\n",
              "      <td>NaN</td>\n",
              "      <td>False</td>\n",
              "    </tr>\n",
              "    <tr>\n",
              "      <th>2</th>\n",
              "      <td>2</td>\n",
              "      <td>42812</td>\n",
              "      <td>NaN</td>\n",
              "      <td>2.130706e+09</td>\n",
              "      <td>264.0</td>\n",
              "      <td>0.0</td>\n",
              "      <td>0.0</td>\n",
              "      <td>0.0</td>\n",
              "      <td>0.0</td>\n",
              "      <td>0.0</td>\n",
              "      <td>0.0</td>\n",
              "      <td>1432.0</td>\n",
              "      <td>126512.0</td>\n",
              "      <td>1981406.0</td>\n",
              "      <td>923130.0</td>\n",
              "      <td>55826.0</td>\n",
              "      <td>0.0</td>\n",
              "      <td>1335442.0</td>\n",
              "      <td>0.0</td>\n",
              "      <td>0.0</td>\n",
              "      <td>0.0</td>\n",
              "      <td>0.0</td>\n",
              "      <td>0.0</td>\n",
              "      <td>2798082.0</td>\n",
              "      <td>2478240.0</td>\n",
              "      <td>577532.0</td>\n",
              "      <td>275700.0</td>\n",
              "      <td>0.0</td>\n",
              "      <td>0.0</td>\n",
              "      <td>0.0</td>\n",
              "      <td>0.0</td>\n",
              "      <td>160.0</td>\n",
              "      <td>76.0</td>\n",
              "      <td>0.0</td>\n",
              "      <td>0.0</td>\n",
              "      <td>0.0</td>\n",
              "      <td>0.0</td>\n",
              "      <td>0.0</td>\n",
              "      <td>33210.0</td>\n",
              "      <td>1186896.0</td>\n",
              "      <td>...</td>\n",
              "      <td>2469208.0</td>\n",
              "      <td>1964.0</td>\n",
              "      <td>90.0</td>\n",
              "      <td>0.0</td>\n",
              "      <td>0.0</td>\n",
              "      <td>0.0</td>\n",
              "      <td>0.0</td>\n",
              "      <td>0.0</td>\n",
              "      <td>0.0</td>\n",
              "      <td>0.0</td>\n",
              "      <td>0.0</td>\n",
              "      <td>21998.0</td>\n",
              "      <td>48806.0</td>\n",
              "      <td>16928.0</td>\n",
              "      <td>0.0</td>\n",
              "      <td>0.0</td>\n",
              "      <td>75156.0</td>\n",
              "      <td>11986.0</td>\n",
              "      <td>6138380.0</td>\n",
              "      <td>623008.0</td>\n",
              "      <td>0.0</td>\n",
              "      <td>0.0</td>\n",
              "      <td>0.0</td>\n",
              "      <td>0.0</td>\n",
              "      <td>2811960.0</td>\n",
              "      <td>869.20</td>\n",
              "      <td>908.0</td>\n",
              "      <td>664060.0</td>\n",
              "      <td>443826.0</td>\n",
              "      <td>346962.0</td>\n",
              "      <td>190796.0</td>\n",
              "      <td>447854.0</td>\n",
              "      <td>495106.0</td>\n",
              "      <td>452514.0</td>\n",
              "      <td>46858.0</td>\n",
              "      <td>326.0</td>\n",
              "      <td>0.0</td>\n",
              "      <td>0.0</td>\n",
              "      <td>0.0</td>\n",
              "      <td>False</td>\n",
              "    </tr>\n",
              "    <tr>\n",
              "      <th>3</th>\n",
              "      <td>3</td>\n",
              "      <td>8438</td>\n",
              "      <td>0.0</td>\n",
              "      <td>2.880000e+02</td>\n",
              "      <td>208.0</td>\n",
              "      <td>0.0</td>\n",
              "      <td>0.0</td>\n",
              "      <td>0.0</td>\n",
              "      <td>0.0</td>\n",
              "      <td>0.0</td>\n",
              "      <td>0.0</td>\n",
              "      <td>35656.0</td>\n",
              "      <td>411906.0</td>\n",
              "      <td>208880.0</td>\n",
              "      <td>5238.0</td>\n",
              "      <td>28.0</td>\n",
              "      <td>0.0</td>\n",
              "      <td>289424.0</td>\n",
              "      <td>0.0</td>\n",
              "      <td>0.0</td>\n",
              "      <td>0.0</td>\n",
              "      <td>790.0</td>\n",
              "      <td>3882.0</td>\n",
              "      <td>610196.0</td>\n",
              "      <td>506076.0</td>\n",
              "      <td>255038.0</td>\n",
              "      <td>80128.0</td>\n",
              "      <td>0.0</td>\n",
              "      <td>0.0</td>\n",
              "      <td>0.0</td>\n",
              "      <td>0.0</td>\n",
              "      <td>318.0</td>\n",
              "      <td>654.0</td>\n",
              "      <td>0.0</td>\n",
              "      <td>0.0</td>\n",
              "      <td>0.0</td>\n",
              "      <td>0.0</td>\n",
              "      <td>0.0</td>\n",
              "      <td>0.0</td>\n",
              "      <td>0.0</td>\n",
              "      <td>...</td>\n",
              "      <td>578148.0</td>\n",
              "      <td>948.0</td>\n",
              "      <td>978.0</td>\n",
              "      <td>0.0</td>\n",
              "      <td>0.0</td>\n",
              "      <td>0.0</td>\n",
              "      <td>0.0</td>\n",
              "      <td>0.0</td>\n",
              "      <td>0.0</td>\n",
              "      <td>0.0</td>\n",
              "      <td>0.0</td>\n",
              "      <td>6104.0</td>\n",
              "      <td>1886.0</td>\n",
              "      <td>688.0</td>\n",
              "      <td>1902018.0</td>\n",
              "      <td>210004.0</td>\n",
              "      <td>32816.0</td>\n",
              "      <td>5180.0</td>\n",
              "      <td>2061620.0</td>\n",
              "      <td>209102.0</td>\n",
              "      <td>711970.0</td>\n",
              "      <td>10788.0</td>\n",
              "      <td>0.0</td>\n",
              "      <td>0.0</td>\n",
              "      <td>0.0</td>\n",
              "      <td>1404.42</td>\n",
              "      <td>898.0</td>\n",
              "      <td>100118.0</td>\n",
              "      <td>203862.0</td>\n",
              "      <td>93918.0</td>\n",
              "      <td>29194.0</td>\n",
              "      <td>52906.0</td>\n",
              "      <td>43192.0</td>\n",
              "      <td>28096.0</td>\n",
              "      <td>108344.0</td>\n",
              "      <td>2078.0</td>\n",
              "      <td>0.0</td>\n",
              "      <td>0.0</td>\n",
              "      <td>0.0</td>\n",
              "      <td>False</td>\n",
              "    </tr>\n",
              "    <tr>\n",
              "      <th>4</th>\n",
              "      <td>4</td>\n",
              "      <td>6</td>\n",
              "      <td>0.0</td>\n",
              "      <td>0.000000e+00</td>\n",
              "      <td>0.0</td>\n",
              "      <td>0.0</td>\n",
              "      <td>0.0</td>\n",
              "      <td>0.0</td>\n",
              "      <td>0.0</td>\n",
              "      <td>0.0</td>\n",
              "      <td>0.0</td>\n",
              "      <td>16.0</td>\n",
              "      <td>2304.0</td>\n",
              "      <td>8214.0</td>\n",
              "      <td>1212.0</td>\n",
              "      <td>0.0</td>\n",
              "      <td>0.0</td>\n",
              "      <td>3098.0</td>\n",
              "      <td>0.0</td>\n",
              "      <td>0.0</td>\n",
              "      <td>0.0</td>\n",
              "      <td>0.0</td>\n",
              "      <td>0.0</td>\n",
              "      <td>10994.0</td>\n",
              "      <td>9260.0</td>\n",
              "      <td>15332.0</td>\n",
              "      <td>414.0</td>\n",
              "      <td>0.0</td>\n",
              "      <td>0.0</td>\n",
              "      <td>0.0</td>\n",
              "      <td>0.0</td>\n",
              "      <td>0.0</td>\n",
              "      <td>16.0</td>\n",
              "      <td>0.0</td>\n",
              "      <td>0.0</td>\n",
              "      <td>0.0</td>\n",
              "      <td>0.0</td>\n",
              "      <td>0.0</td>\n",
              "      <td>0.0</td>\n",
              "      <td>0.0</td>\n",
              "      <td>...</td>\n",
              "      <td>1806.0</td>\n",
              "      <td>40.0</td>\n",
              "      <td>52.0</td>\n",
              "      <td>0.0</td>\n",
              "      <td>0.0</td>\n",
              "      <td>0.0</td>\n",
              "      <td>0.0</td>\n",
              "      <td>0.0</td>\n",
              "      <td>0.0</td>\n",
              "      <td>0.0</td>\n",
              "      <td>0.0</td>\n",
              "      <td>116.0</td>\n",
              "      <td>0.0</td>\n",
              "      <td>0.0</td>\n",
              "      <td>0.0</td>\n",
              "      <td>0.0</td>\n",
              "      <td>20.0</td>\n",
              "      <td>8.0</td>\n",
              "      <td>620.0</td>\n",
              "      <td>74.0</td>\n",
              "      <td>0.0</td>\n",
              "      <td>0.0</td>\n",
              "      <td>0.0</td>\n",
              "      <td>0.0</td>\n",
              "      <td>0.0</td>\n",
              "      <td>101.46</td>\n",
              "      <td>32.0</td>\n",
              "      <td>10526.0</td>\n",
              "      <td>1076.0</td>\n",
              "      <td>36.0</td>\n",
              "      <td>10.0</td>\n",
              "      <td>28.0</td>\n",
              "      <td>24.0</td>\n",
              "      <td>16.0</td>\n",
              "      <td>30.0</td>\n",
              "      <td>0.0</td>\n",
              "      <td>0.0</td>\n",
              "      <td>0.0</td>\n",
              "      <td>0.0</td>\n",
              "      <td>False</td>\n",
              "    </tr>\n",
              "  </tbody>\n",
              "</table>\n",
              "<p>5 rows × 172 columns</p>\n",
              "</div>"
            ],
            "text/plain": [
              "   Unnamed: 0       0    1             2      3  ...      166  167  168  169  target\n",
              "0           0       4  NaN  2.000000e+01    8.0  ...      0.0  0.0  0.0  0.0   False\n",
              "1           1  192902  NaN           NaN    NaN  ...  13692.0  0.0  NaN  NaN   False\n",
              "2           2   42812  NaN  2.130706e+09  264.0  ...    326.0  0.0  0.0  0.0   False\n",
              "3           3    8438  0.0  2.880000e+02  208.0  ...   2078.0  0.0  0.0  0.0   False\n",
              "4           4       6  0.0  0.000000e+00    0.0  ...      0.0  0.0  0.0  0.0   False\n",
              "\n",
              "[5 rows x 172 columns]"
            ]
          },
          "metadata": {
            "tags": []
          },
          "execution_count": 81
        }
      ]
    },
    {
      "cell_type": "code",
      "metadata": {
        "id": "V1aawvuGuLFq",
        "colab_type": "code",
        "outputId": "4d0b4b1d-d25a-4190-dbd1-6d77b5525593",
        "colab": {
          "base_uri": "https://localhost:8080/",
          "height": 270
        }
      },
      "source": [
        "test.head(5) #checking the head of the test data"
      ],
      "execution_count": 82,
      "outputs": [
        {
          "output_type": "execute_result",
          "data": {
            "text/html": [
              "<div>\n",
              "<style scoped>\n",
              "    .dataframe tbody tr th:only-of-type {\n",
              "        vertical-align: middle;\n",
              "    }\n",
              "\n",
              "    .dataframe tbody tr th {\n",
              "        vertical-align: top;\n",
              "    }\n",
              "\n",
              "    .dataframe thead th {\n",
              "        text-align: right;\n",
              "    }\n",
              "</style>\n",
              "<table border=\"1\" class=\"dataframe\">\n",
              "  <thead>\n",
              "    <tr style=\"text-align: right;\">\n",
              "      <th></th>\n",
              "      <th>Unnamed: 0</th>\n",
              "      <th>0</th>\n",
              "      <th>1</th>\n",
              "      <th>2</th>\n",
              "      <th>3</th>\n",
              "      <th>4</th>\n",
              "      <th>5</th>\n",
              "      <th>6</th>\n",
              "      <th>7</th>\n",
              "      <th>8</th>\n",
              "      <th>9</th>\n",
              "      <th>10</th>\n",
              "      <th>11</th>\n",
              "      <th>12</th>\n",
              "      <th>13</th>\n",
              "      <th>14</th>\n",
              "      <th>15</th>\n",
              "      <th>16</th>\n",
              "      <th>17</th>\n",
              "      <th>18</th>\n",
              "      <th>19</th>\n",
              "      <th>20</th>\n",
              "      <th>21</th>\n",
              "      <th>22</th>\n",
              "      <th>23</th>\n",
              "      <th>24</th>\n",
              "      <th>25</th>\n",
              "      <th>26</th>\n",
              "      <th>27</th>\n",
              "      <th>28</th>\n",
              "      <th>29</th>\n",
              "      <th>30</th>\n",
              "      <th>31</th>\n",
              "      <th>32</th>\n",
              "      <th>33</th>\n",
              "      <th>34</th>\n",
              "      <th>35</th>\n",
              "      <th>36</th>\n",
              "      <th>37</th>\n",
              "      <th>38</th>\n",
              "      <th>...</th>\n",
              "      <th>130</th>\n",
              "      <th>131</th>\n",
              "      <th>132</th>\n",
              "      <th>133</th>\n",
              "      <th>134</th>\n",
              "      <th>135</th>\n",
              "      <th>136</th>\n",
              "      <th>137</th>\n",
              "      <th>138</th>\n",
              "      <th>139</th>\n",
              "      <th>140</th>\n",
              "      <th>141</th>\n",
              "      <th>142</th>\n",
              "      <th>143</th>\n",
              "      <th>144</th>\n",
              "      <th>145</th>\n",
              "      <th>146</th>\n",
              "      <th>147</th>\n",
              "      <th>148</th>\n",
              "      <th>149</th>\n",
              "      <th>150</th>\n",
              "      <th>151</th>\n",
              "      <th>152</th>\n",
              "      <th>153</th>\n",
              "      <th>154</th>\n",
              "      <th>155</th>\n",
              "      <th>156</th>\n",
              "      <th>157</th>\n",
              "      <th>158</th>\n",
              "      <th>159</th>\n",
              "      <th>160</th>\n",
              "      <th>161</th>\n",
              "      <th>162</th>\n",
              "      <th>163</th>\n",
              "      <th>164</th>\n",
              "      <th>165</th>\n",
              "      <th>166</th>\n",
              "      <th>167</th>\n",
              "      <th>168</th>\n",
              "      <th>169</th>\n",
              "    </tr>\n",
              "  </thead>\n",
              "  <tbody>\n",
              "    <tr>\n",
              "      <th>0</th>\n",
              "      <td>0</td>\n",
              "      <td>21992</td>\n",
              "      <td>NaN</td>\n",
              "      <td>0.000000e+00</td>\n",
              "      <td>NaN</td>\n",
              "      <td>0.0</td>\n",
              "      <td>0.0</td>\n",
              "      <td>0.0</td>\n",
              "      <td>0.0</td>\n",
              "      <td>0.0</td>\n",
              "      <td>0.0</td>\n",
              "      <td>5140.0</td>\n",
              "      <td>894686.0</td>\n",
              "      <td>3094446.0</td>\n",
              "      <td>3562244.0</td>\n",
              "      <td>1005258.0</td>\n",
              "      <td>46028.0</td>\n",
              "      <td>4529264.0</td>\n",
              "      <td>0.0</td>\n",
              "      <td>0.0</td>\n",
              "      <td>0.0</td>\n",
              "      <td>0.0</td>\n",
              "      <td>0.0</td>\n",
              "      <td>8110056.0</td>\n",
              "      <td>7615742.0</td>\n",
              "      <td>1096512.0</td>\n",
              "      <td>429038.0</td>\n",
              "      <td>0.0</td>\n",
              "      <td>0.0</td>\n",
              "      <td>44822.0</td>\n",
              "      <td>0.0</td>\n",
              "      <td>0.0</td>\n",
              "      <td>0.0</td>\n",
              "      <td>0.0</td>\n",
              "      <td>0.0</td>\n",
              "      <td>0.0</td>\n",
              "      <td>0.0</td>\n",
              "      <td>0.0</td>\n",
              "      <td>20748.0</td>\n",
              "      <td>7752412.0</td>\n",
              "      <td>...</td>\n",
              "      <td>NaN</td>\n",
              "      <td>NaN</td>\n",
              "      <td>6322.0</td>\n",
              "      <td>226.0</td>\n",
              "      <td>0.0</td>\n",
              "      <td>0.0</td>\n",
              "      <td>0.0</td>\n",
              "      <td>0.0</td>\n",
              "      <td>0.0</td>\n",
              "      <td>0.0</td>\n",
              "      <td>0.0</td>\n",
              "      <td>0.0</td>\n",
              "      <td>38036.0</td>\n",
              "      <td>16128.0</td>\n",
              "      <td>3366.0</td>\n",
              "      <td>0.0</td>\n",
              "      <td>0.0</td>\n",
              "      <td>125662.0</td>\n",
              "      <td>25350.0</td>\n",
              "      <td>2306440.0</td>\n",
              "      <td>794568.0</td>\n",
              "      <td>0.0</td>\n",
              "      <td>0.0</td>\n",
              "      <td>0.0</td>\n",
              "      <td>0.0</td>\n",
              "      <td>0.0</td>\n",
              "      <td>1882.26</td>\n",
              "      <td>2134.0</td>\n",
              "      <td>6777340.0</td>\n",
              "      <td>940376.0</td>\n",
              "      <td>272368.0</td>\n",
              "      <td>92340.0</td>\n",
              "      <td>145288.0</td>\n",
              "      <td>131818.0</td>\n",
              "      <td>86808.0</td>\n",
              "      <td>62154.0</td>\n",
              "      <td>96058.0</td>\n",
              "      <td>3252.0</td>\n",
              "      <td>0.0</td>\n",
              "      <td>0.0</td>\n",
              "    </tr>\n",
              "    <tr>\n",
              "      <th>1</th>\n",
              "      <td>1</td>\n",
              "      <td>21384</td>\n",
              "      <td>NaN</td>\n",
              "      <td>NaN</td>\n",
              "      <td>NaN</td>\n",
              "      <td>NaN</td>\n",
              "      <td>NaN</td>\n",
              "      <td>0.0</td>\n",
              "      <td>0.0</td>\n",
              "      <td>0.0</td>\n",
              "      <td>72938.0</td>\n",
              "      <td>895660.0</td>\n",
              "      <td>346150.0</td>\n",
              "      <td>85970.0</td>\n",
              "      <td>698.0</td>\n",
              "      <td>0.0</td>\n",
              "      <td>0.0</td>\n",
              "      <td>429242.0</td>\n",
              "      <td>0.0</td>\n",
              "      <td>0.0</td>\n",
              "      <td>NaN</td>\n",
              "      <td>73348.0</td>\n",
              "      <td>99450.0</td>\n",
              "      <td>1186318.0</td>\n",
              "      <td>1184218.0</td>\n",
              "      <td>217000.0</td>\n",
              "      <td>62682.0</td>\n",
              "      <td>NaN</td>\n",
              "      <td>0.0</td>\n",
              "      <td>0.0</td>\n",
              "      <td>0.0</td>\n",
              "      <td>NaN</td>\n",
              "      <td>NaN</td>\n",
              "      <td>0.0</td>\n",
              "      <td>0.0</td>\n",
              "      <td>0.0</td>\n",
              "      <td>0.0</td>\n",
              "      <td>0.0</td>\n",
              "      <td>0.0</td>\n",
              "      <td>0.0</td>\n",
              "      <td>...</td>\n",
              "      <td>NaN</td>\n",
              "      <td>NaN</td>\n",
              "      <td>NaN</td>\n",
              "      <td>NaN</td>\n",
              "      <td>NaN</td>\n",
              "      <td>NaN</td>\n",
              "      <td>NaN</td>\n",
              "      <td>NaN</td>\n",
              "      <td>NaN</td>\n",
              "      <td>NaN</td>\n",
              "      <td>NaN</td>\n",
              "      <td>NaN</td>\n",
              "      <td>5642.0</td>\n",
              "      <td>NaN</td>\n",
              "      <td>NaN</td>\n",
              "      <td>NaN</td>\n",
              "      <td>NaN</td>\n",
              "      <td>NaN</td>\n",
              "      <td>NaN</td>\n",
              "      <td>NaN</td>\n",
              "      <td>NaN</td>\n",
              "      <td>NaN</td>\n",
              "      <td>NaN</td>\n",
              "      <td>NaN</td>\n",
              "      <td>NaN</td>\n",
              "      <td>NaN</td>\n",
              "      <td>NaN</td>\n",
              "      <td>NaN</td>\n",
              "      <td>401894.0</td>\n",
              "      <td>92212.0</td>\n",
              "      <td>68412.0</td>\n",
              "      <td>30306.0</td>\n",
              "      <td>70896.0</td>\n",
              "      <td>80616.0</td>\n",
              "      <td>133222.0</td>\n",
              "      <td>514760.0</td>\n",
              "      <td>9098.0</td>\n",
              "      <td>0.0</td>\n",
              "      <td>NaN</td>\n",
              "      <td>NaN</td>\n",
              "    </tr>\n",
              "    <tr>\n",
              "      <th>2</th>\n",
              "      <td>2</td>\n",
              "      <td>2300</td>\n",
              "      <td>NaN</td>\n",
              "      <td>6.200000e+02</td>\n",
              "      <td>560.0</td>\n",
              "      <td>0.0</td>\n",
              "      <td>0.0</td>\n",
              "      <td>0.0</td>\n",
              "      <td>0.0</td>\n",
              "      <td>0.0</td>\n",
              "      <td>0.0</td>\n",
              "      <td>242.0</td>\n",
              "      <td>38786.0</td>\n",
              "      <td>92512.0</td>\n",
              "      <td>11034.0</td>\n",
              "      <td>0.0</td>\n",
              "      <td>0.0</td>\n",
              "      <td>58910.0</td>\n",
              "      <td>0.0</td>\n",
              "      <td>0.0</td>\n",
              "      <td>0.0</td>\n",
              "      <td>0.0</td>\n",
              "      <td>0.0</td>\n",
              "      <td>134150.0</td>\n",
              "      <td>119290.0</td>\n",
              "      <td>29736.0</td>\n",
              "      <td>9370.0</td>\n",
              "      <td>0.0</td>\n",
              "      <td>0.0</td>\n",
              "      <td>0.0</td>\n",
              "      <td>0.0</td>\n",
              "      <td>360.0</td>\n",
              "      <td>78.0</td>\n",
              "      <td>0.0</td>\n",
              "      <td>0.0</td>\n",
              "      <td>0.0</td>\n",
              "      <td>0.0</td>\n",
              "      <td>0.0</td>\n",
              "      <td>4342.0</td>\n",
              "      <td>102986.0</td>\n",
              "      <td>...</td>\n",
              "      <td>32.0</td>\n",
              "      <td>128740.0</td>\n",
              "      <td>182.0</td>\n",
              "      <td>66.0</td>\n",
              "      <td>0.0</td>\n",
              "      <td>0.0</td>\n",
              "      <td>0.0</td>\n",
              "      <td>0.0</td>\n",
              "      <td>0.0</td>\n",
              "      <td>0.0</td>\n",
              "      <td>0.0</td>\n",
              "      <td>0.0</td>\n",
              "      <td>912.0</td>\n",
              "      <td>924.0</td>\n",
              "      <td>438.0</td>\n",
              "      <td>0.0</td>\n",
              "      <td>0.0</td>\n",
              "      <td>3208.0</td>\n",
              "      <td>794.0</td>\n",
              "      <td>712700.0</td>\n",
              "      <td>72178.0</td>\n",
              "      <td>0.0</td>\n",
              "      <td>0.0</td>\n",
              "      <td>0.0</td>\n",
              "      <td>0.0</td>\n",
              "      <td>1299900.0</td>\n",
              "      <td>269.58</td>\n",
              "      <td>140.0</td>\n",
              "      <td>17620.0</td>\n",
              "      <td>16100.0</td>\n",
              "      <td>14516.0</td>\n",
              "      <td>9308.0</td>\n",
              "      <td>27072.0</td>\n",
              "      <td>54904.0</td>\n",
              "      <td>2942.0</td>\n",
              "      <td>112.0</td>\n",
              "      <td>0.0</td>\n",
              "      <td>0.0</td>\n",
              "      <td>0.0</td>\n",
              "      <td>0.0</td>\n",
              "    </tr>\n",
              "    <tr>\n",
              "      <th>3</th>\n",
              "      <td>3</td>\n",
              "      <td>40588</td>\n",
              "      <td>NaN</td>\n",
              "      <td>2.130706e+09</td>\n",
              "      <td>164.0</td>\n",
              "      <td>0.0</td>\n",
              "      <td>0.0</td>\n",
              "      <td>0.0</td>\n",
              "      <td>0.0</td>\n",
              "      <td>0.0</td>\n",
              "      <td>0.0</td>\n",
              "      <td>620.0</td>\n",
              "      <td>437006.0</td>\n",
              "      <td>1921128.0</td>\n",
              "      <td>721842.0</td>\n",
              "      <td>43640.0</td>\n",
              "      <td>0.0</td>\n",
              "      <td>1416262.0</td>\n",
              "      <td>0.0</td>\n",
              "      <td>142.0</td>\n",
              "      <td>0.0</td>\n",
              "      <td>0.0</td>\n",
              "      <td>0.0</td>\n",
              "      <td>2887006.0</td>\n",
              "      <td>2526312.0</td>\n",
              "      <td>508820.0</td>\n",
              "      <td>274142.0</td>\n",
              "      <td>0.0</td>\n",
              "      <td>0.0</td>\n",
              "      <td>0.0</td>\n",
              "      <td>0.0</td>\n",
              "      <td>576.0</td>\n",
              "      <td>146.0</td>\n",
              "      <td>0.0</td>\n",
              "      <td>0.0</td>\n",
              "      <td>0.0</td>\n",
              "      <td>0.0</td>\n",
              "      <td>0.0</td>\n",
              "      <td>211120.0</td>\n",
              "      <td>2198260.0</td>\n",
              "      <td>...</td>\n",
              "      <td>36.0</td>\n",
              "      <td>2506322.0</td>\n",
              "      <td>4432.0</td>\n",
              "      <td>156.0</td>\n",
              "      <td>0.0</td>\n",
              "      <td>0.0</td>\n",
              "      <td>0.0</td>\n",
              "      <td>0.0</td>\n",
              "      <td>0.0</td>\n",
              "      <td>0.0</td>\n",
              "      <td>0.0</td>\n",
              "      <td>0.0</td>\n",
              "      <td>25564.0</td>\n",
              "      <td>36684.0</td>\n",
              "      <td>12260.0</td>\n",
              "      <td>0.0</td>\n",
              "      <td>0.0</td>\n",
              "      <td>69526.0</td>\n",
              "      <td>16226.0</td>\n",
              "      <td>7329340.0</td>\n",
              "      <td>742542.0</td>\n",
              "      <td>0.0</td>\n",
              "      <td>0.0</td>\n",
              "      <td>0.0</td>\n",
              "      <td>0.0</td>\n",
              "      <td>587100.0</td>\n",
              "      <td>1515.54</td>\n",
              "      <td>1796.0</td>\n",
              "      <td>717306.0</td>\n",
              "      <td>527364.0</td>\n",
              "      <td>411056.0</td>\n",
              "      <td>218562.0</td>\n",
              "      <td>449834.0</td>\n",
              "      <td>344838.0</td>\n",
              "      <td>231628.0</td>\n",
              "      <td>119826.0</td>\n",
              "      <td>101478.0</td>\n",
              "      <td>2344.0</td>\n",
              "      <td>0.0</td>\n",
              "      <td>0.0</td>\n",
              "    </tr>\n",
              "    <tr>\n",
              "      <th>4</th>\n",
              "      <td>4</td>\n",
              "      <td>5268</td>\n",
              "      <td>NaN</td>\n",
              "      <td>4.200000e+02</td>\n",
              "      <td>340.0</td>\n",
              "      <td>0.0</td>\n",
              "      <td>0.0</td>\n",
              "      <td>0.0</td>\n",
              "      <td>0.0</td>\n",
              "      <td>0.0</td>\n",
              "      <td>0.0</td>\n",
              "      <td>242.0</td>\n",
              "      <td>71336.0</td>\n",
              "      <td>131044.0</td>\n",
              "      <td>58760.0</td>\n",
              "      <td>586.0</td>\n",
              "      <td>0.0</td>\n",
              "      <td>103718.0</td>\n",
              "      <td>0.0</td>\n",
              "      <td>0.0</td>\n",
              "      <td>0.0</td>\n",
              "      <td>0.0</td>\n",
              "      <td>0.0</td>\n",
              "      <td>223636.0</td>\n",
              "      <td>171150.0</td>\n",
              "      <td>98488.0</td>\n",
              "      <td>34106.0</td>\n",
              "      <td>0.0</td>\n",
              "      <td>0.0</td>\n",
              "      <td>0.0</td>\n",
              "      <td>0.0</td>\n",
              "      <td>156.0</td>\n",
              "      <td>86.0</td>\n",
              "      <td>0.0</td>\n",
              "      <td>0.0</td>\n",
              "      <td>0.0</td>\n",
              "      <td>0.0</td>\n",
              "      <td>0.0</td>\n",
              "      <td>3404.0</td>\n",
              "      <td>257358.0</td>\n",
              "      <td>...</td>\n",
              "      <td>0.0</td>\n",
              "      <td>156342.0</td>\n",
              "      <td>608.0</td>\n",
              "      <td>154.0</td>\n",
              "      <td>0.0</td>\n",
              "      <td>0.0</td>\n",
              "      <td>0.0</td>\n",
              "      <td>0.0</td>\n",
              "      <td>0.0</td>\n",
              "      <td>0.0</td>\n",
              "      <td>0.0</td>\n",
              "      <td>0.0</td>\n",
              "      <td>2570.0</td>\n",
              "      <td>440.0</td>\n",
              "      <td>146.0</td>\n",
              "      <td>0.0</td>\n",
              "      <td>0.0</td>\n",
              "      <td>5916.0</td>\n",
              "      <td>1170.0</td>\n",
              "      <td>64880.0</td>\n",
              "      <td>11510.0</td>\n",
              "      <td>138128.0</td>\n",
              "      <td>256.0</td>\n",
              "      <td>0.0</td>\n",
              "      <td>0.0</td>\n",
              "      <td>336560.0</td>\n",
              "      <td>380.70</td>\n",
              "      <td>414.0</td>\n",
              "      <td>125076.0</td>\n",
              "      <td>58518.0</td>\n",
              "      <td>13656.0</td>\n",
              "      <td>4000.0</td>\n",
              "      <td>9050.0</td>\n",
              "      <td>50890.0</td>\n",
              "      <td>754.0</td>\n",
              "      <td>22.0</td>\n",
              "      <td>2.0</td>\n",
              "      <td>0.0</td>\n",
              "      <td>0.0</td>\n",
              "      <td>0.0</td>\n",
              "    </tr>\n",
              "  </tbody>\n",
              "</table>\n",
              "<p>5 rows × 171 columns</p>\n",
              "</div>"
            ],
            "text/plain": [
              "   Unnamed: 0      0   1             2  ...       166     167  168  169\n",
              "0           0  21992 NaN  0.000000e+00  ...   96058.0  3252.0  0.0  0.0\n",
              "1           1  21384 NaN           NaN  ...    9098.0     0.0  NaN  NaN\n",
              "2           2   2300 NaN  6.200000e+02  ...       0.0     0.0  0.0  0.0\n",
              "3           3  40588 NaN  2.130706e+09  ...  101478.0  2344.0  0.0  0.0\n",
              "4           4   5268 NaN  4.200000e+02  ...       2.0     0.0  0.0  0.0\n",
              "\n",
              "[5 rows x 171 columns]"
            ]
          },
          "metadata": {
            "tags": []
          },
          "execution_count": 82
        }
      ]
    },
    {
      "cell_type": "code",
      "metadata": {
        "id": "IH6q87EQV8li",
        "colab_type": "code",
        "outputId": "6abb63d0-89de-4d9f-b757-73c7a9d28658",
        "colab": {
          "base_uri": "https://localhost:8080/",
          "height": 102
        }
      },
      "source": [
        "train.columns #checking the column name of train data"
      ],
      "execution_count": 83,
      "outputs": [
        {
          "output_type": "execute_result",
          "data": {
            "text/plain": [
              "Index(['Unnamed: 0', '0', '1', '2', '3', '4', '5', '6', '7', '8',\n",
              "       ...\n",
              "       '161', '162', '163', '164', '165', '166', '167', '168', '169',\n",
              "       'target'],\n",
              "      dtype='object', length=172)"
            ]
          },
          "metadata": {
            "tags": []
          },
          "execution_count": 83
        }
      ]
    },
    {
      "cell_type": "code",
      "metadata": {
        "id": "8rZSw4iruURh",
        "colab_type": "code",
        "outputId": "efd3e1eb-80ec-4d94-89c4-6f06da982e84",
        "colab": {
          "base_uri": "https://localhost:8080/",
          "height": 85
        }
      },
      "source": [
        "test.columns #checking the column name of test data"
      ],
      "execution_count": 84,
      "outputs": [
        {
          "output_type": "execute_result",
          "data": {
            "text/plain": [
              "Index(['Unnamed: 0', '0', '1', '2', '3', '4', '5', '6', '7', '8',\n",
              "       ...\n",
              "       '160', '161', '162', '163', '164', '165', '166', '167', '168', '169'],\n",
              "      dtype='object', length=171)"
            ]
          },
          "metadata": {
            "tags": []
          },
          "execution_count": 84
        }
      ]
    },
    {
      "cell_type": "markdown",
      "metadata": {
        "id": "oaVoIu0nbenP",
        "colab_type": "text"
      },
      "source": [
        "##Data Cleaning, EDA and Data Transformation"
      ]
    },
    {
      "cell_type": "code",
      "metadata": {
        "id": "7MPBpUkPV8t_",
        "colab_type": "code",
        "colab": {}
      },
      "source": [
        "#droping 'unamed: 0' column as it doesn't have relevant info. it's serial number.\n",
        "train = train.drop('Unnamed: 0',axis=1) \n",
        "test = test.drop('Unnamed: 0',axis=1) "
      ],
      "execution_count": 0,
      "outputs": []
    },
    {
      "cell_type": "code",
      "metadata": {
        "id": "-MtRKpP8cPQL",
        "colab_type": "code",
        "outputId": "94ba8af2-3156-4ac7-a372-e2361f7a6013",
        "colab": {
          "base_uri": "https://localhost:8080/",
          "height": 253
        }
      },
      "source": [
        "train.head(5) #checking the head again. the data will look better now. "
      ],
      "execution_count": 86,
      "outputs": [
        {
          "output_type": "execute_result",
          "data": {
            "text/html": [
              "<div>\n",
              "<style scoped>\n",
              "    .dataframe tbody tr th:only-of-type {\n",
              "        vertical-align: middle;\n",
              "    }\n",
              "\n",
              "    .dataframe tbody tr th {\n",
              "        vertical-align: top;\n",
              "    }\n",
              "\n",
              "    .dataframe thead th {\n",
              "        text-align: right;\n",
              "    }\n",
              "</style>\n",
              "<table border=\"1\" class=\"dataframe\">\n",
              "  <thead>\n",
              "    <tr style=\"text-align: right;\">\n",
              "      <th></th>\n",
              "      <th>0</th>\n",
              "      <th>1</th>\n",
              "      <th>2</th>\n",
              "      <th>3</th>\n",
              "      <th>4</th>\n",
              "      <th>5</th>\n",
              "      <th>6</th>\n",
              "      <th>7</th>\n",
              "      <th>8</th>\n",
              "      <th>9</th>\n",
              "      <th>10</th>\n",
              "      <th>11</th>\n",
              "      <th>12</th>\n",
              "      <th>13</th>\n",
              "      <th>14</th>\n",
              "      <th>15</th>\n",
              "      <th>16</th>\n",
              "      <th>17</th>\n",
              "      <th>18</th>\n",
              "      <th>19</th>\n",
              "      <th>20</th>\n",
              "      <th>21</th>\n",
              "      <th>22</th>\n",
              "      <th>23</th>\n",
              "      <th>24</th>\n",
              "      <th>25</th>\n",
              "      <th>26</th>\n",
              "      <th>27</th>\n",
              "      <th>28</th>\n",
              "      <th>29</th>\n",
              "      <th>30</th>\n",
              "      <th>31</th>\n",
              "      <th>32</th>\n",
              "      <th>33</th>\n",
              "      <th>34</th>\n",
              "      <th>35</th>\n",
              "      <th>36</th>\n",
              "      <th>37</th>\n",
              "      <th>38</th>\n",
              "      <th>39</th>\n",
              "      <th>...</th>\n",
              "      <th>131</th>\n",
              "      <th>132</th>\n",
              "      <th>133</th>\n",
              "      <th>134</th>\n",
              "      <th>135</th>\n",
              "      <th>136</th>\n",
              "      <th>137</th>\n",
              "      <th>138</th>\n",
              "      <th>139</th>\n",
              "      <th>140</th>\n",
              "      <th>141</th>\n",
              "      <th>142</th>\n",
              "      <th>143</th>\n",
              "      <th>144</th>\n",
              "      <th>145</th>\n",
              "      <th>146</th>\n",
              "      <th>147</th>\n",
              "      <th>148</th>\n",
              "      <th>149</th>\n",
              "      <th>150</th>\n",
              "      <th>151</th>\n",
              "      <th>152</th>\n",
              "      <th>153</th>\n",
              "      <th>154</th>\n",
              "      <th>155</th>\n",
              "      <th>156</th>\n",
              "      <th>157</th>\n",
              "      <th>158</th>\n",
              "      <th>159</th>\n",
              "      <th>160</th>\n",
              "      <th>161</th>\n",
              "      <th>162</th>\n",
              "      <th>163</th>\n",
              "      <th>164</th>\n",
              "      <th>165</th>\n",
              "      <th>166</th>\n",
              "      <th>167</th>\n",
              "      <th>168</th>\n",
              "      <th>169</th>\n",
              "      <th>target</th>\n",
              "    </tr>\n",
              "  </thead>\n",
              "  <tbody>\n",
              "    <tr>\n",
              "      <th>0</th>\n",
              "      <td>4</td>\n",
              "      <td>NaN</td>\n",
              "      <td>2.000000e+01</td>\n",
              "      <td>8.0</td>\n",
              "      <td>0.0</td>\n",
              "      <td>0.0</td>\n",
              "      <td>0.0</td>\n",
              "      <td>0.0</td>\n",
              "      <td>0.0</td>\n",
              "      <td>0.0</td>\n",
              "      <td>38.0</td>\n",
              "      <td>2504.0</td>\n",
              "      <td>2392.0</td>\n",
              "      <td>0.0</td>\n",
              "      <td>0.0</td>\n",
              "      <td>0.0</td>\n",
              "      <td>1666.0</td>\n",
              "      <td>0.0</td>\n",
              "      <td>446.0</td>\n",
              "      <td>0.0</td>\n",
              "      <td>0.0</td>\n",
              "      <td>0.0</td>\n",
              "      <td>20106.0</td>\n",
              "      <td>18030.0</td>\n",
              "      <td>10664.0</td>\n",
              "      <td>300.0</td>\n",
              "      <td>0.0</td>\n",
              "      <td>0.0</td>\n",
              "      <td>0.0</td>\n",
              "      <td>0.0</td>\n",
              "      <td>14.0</td>\n",
              "      <td>26.0</td>\n",
              "      <td>0.0</td>\n",
              "      <td>0.0</td>\n",
              "      <td>0.0</td>\n",
              "      <td>0.0</td>\n",
              "      <td>0.0</td>\n",
              "      <td>0.0</td>\n",
              "      <td>0.0</td>\n",
              "      <td>0.0</td>\n",
              "      <td>...</td>\n",
              "      <td>1754.0</td>\n",
              "      <td>42.0</td>\n",
              "      <td>94.0</td>\n",
              "      <td>0.0</td>\n",
              "      <td>0.0</td>\n",
              "      <td>0.0</td>\n",
              "      <td>0.0</td>\n",
              "      <td>0.0</td>\n",
              "      <td>0.0</td>\n",
              "      <td>0.0</td>\n",
              "      <td>0.0</td>\n",
              "      <td>128.0</td>\n",
              "      <td>0.0</td>\n",
              "      <td>0.0</td>\n",
              "      <td>1162.0</td>\n",
              "      <td>140.0</td>\n",
              "      <td>62.0</td>\n",
              "      <td>12.0</td>\n",
              "      <td>360.0</td>\n",
              "      <td>144.0</td>\n",
              "      <td>31676.0</td>\n",
              "      <td>14.0</td>\n",
              "      <td>0.0</td>\n",
              "      <td>0.0</td>\n",
              "      <td>0.0</td>\n",
              "      <td>0.00</td>\n",
              "      <td>0.0</td>\n",
              "      <td>3500.0</td>\n",
              "      <td>1268.0</td>\n",
              "      <td>24.0</td>\n",
              "      <td>16.0</td>\n",
              "      <td>28.0</td>\n",
              "      <td>24.0</td>\n",
              "      <td>26.0</td>\n",
              "      <td>48.0</td>\n",
              "      <td>0.0</td>\n",
              "      <td>0.0</td>\n",
              "      <td>0.0</td>\n",
              "      <td>0.0</td>\n",
              "      <td>False</td>\n",
              "    </tr>\n",
              "    <tr>\n",
              "      <th>1</th>\n",
              "      <td>192902</td>\n",
              "      <td>NaN</td>\n",
              "      <td>NaN</td>\n",
              "      <td>NaN</td>\n",
              "      <td>NaN</td>\n",
              "      <td>NaN</td>\n",
              "      <td>0.0</td>\n",
              "      <td>0.0</td>\n",
              "      <td>0.0</td>\n",
              "      <td>1036044.0</td>\n",
              "      <td>6044554.0</td>\n",
              "      <td>6243624.0</td>\n",
              "      <td>1845798.0</td>\n",
              "      <td>140682.0</td>\n",
              "      <td>2844.0</td>\n",
              "      <td>0.0</td>\n",
              "      <td>4657068.0</td>\n",
              "      <td>0.0</td>\n",
              "      <td>6502.0</td>\n",
              "      <td>NaN</td>\n",
              "      <td>303054.0</td>\n",
              "      <td>504304.0</td>\n",
              "      <td>15370854.0</td>\n",
              "      <td>14883810.0</td>\n",
              "      <td>2202728.0</td>\n",
              "      <td>642438.0</td>\n",
              "      <td>NaN</td>\n",
              "      <td>0.0</td>\n",
              "      <td>0.0</td>\n",
              "      <td>0.0</td>\n",
              "      <td>NaN</td>\n",
              "      <td>NaN</td>\n",
              "      <td>0.0</td>\n",
              "      <td>0.0</td>\n",
              "      <td>0.0</td>\n",
              "      <td>0.0</td>\n",
              "      <td>0.0</td>\n",
              "      <td>0.0</td>\n",
              "      <td>2102.0</td>\n",
              "      <td>2102014.0</td>\n",
              "      <td>...</td>\n",
              "      <td>9869694.0</td>\n",
              "      <td>NaN</td>\n",
              "      <td>NaN</td>\n",
              "      <td>NaN</td>\n",
              "      <td>NaN</td>\n",
              "      <td>NaN</td>\n",
              "      <td>NaN</td>\n",
              "      <td>NaN</td>\n",
              "      <td>NaN</td>\n",
              "      <td>NaN</td>\n",
              "      <td>NaN</td>\n",
              "      <td>58028.0</td>\n",
              "      <td>NaN</td>\n",
              "      <td>NaN</td>\n",
              "      <td>NaN</td>\n",
              "      <td>NaN</td>\n",
              "      <td>NaN</td>\n",
              "      <td>NaN</td>\n",
              "      <td>NaN</td>\n",
              "      <td>NaN</td>\n",
              "      <td>NaN</td>\n",
              "      <td>NaN</td>\n",
              "      <td>NaN</td>\n",
              "      <td>NaN</td>\n",
              "      <td>NaN</td>\n",
              "      <td>NaN</td>\n",
              "      <td>NaN</td>\n",
              "      <td>4749816.0</td>\n",
              "      <td>2191626.0</td>\n",
              "      <td>1539280.0</td>\n",
              "      <td>621668.0</td>\n",
              "      <td>809812.0</td>\n",
              "      <td>435744.0</td>\n",
              "      <td>650766.0</td>\n",
              "      <td>4301142.0</td>\n",
              "      <td>13692.0</td>\n",
              "      <td>0.0</td>\n",
              "      <td>NaN</td>\n",
              "      <td>NaN</td>\n",
              "      <td>False</td>\n",
              "    </tr>\n",
              "    <tr>\n",
              "      <th>2</th>\n",
              "      <td>42812</td>\n",
              "      <td>NaN</td>\n",
              "      <td>2.130706e+09</td>\n",
              "      <td>264.0</td>\n",
              "      <td>0.0</td>\n",
              "      <td>0.0</td>\n",
              "      <td>0.0</td>\n",
              "      <td>0.0</td>\n",
              "      <td>0.0</td>\n",
              "      <td>0.0</td>\n",
              "      <td>1432.0</td>\n",
              "      <td>126512.0</td>\n",
              "      <td>1981406.0</td>\n",
              "      <td>923130.0</td>\n",
              "      <td>55826.0</td>\n",
              "      <td>0.0</td>\n",
              "      <td>1335442.0</td>\n",
              "      <td>0.0</td>\n",
              "      <td>0.0</td>\n",
              "      <td>0.0</td>\n",
              "      <td>0.0</td>\n",
              "      <td>0.0</td>\n",
              "      <td>2798082.0</td>\n",
              "      <td>2478240.0</td>\n",
              "      <td>577532.0</td>\n",
              "      <td>275700.0</td>\n",
              "      <td>0.0</td>\n",
              "      <td>0.0</td>\n",
              "      <td>0.0</td>\n",
              "      <td>0.0</td>\n",
              "      <td>160.0</td>\n",
              "      <td>76.0</td>\n",
              "      <td>0.0</td>\n",
              "      <td>0.0</td>\n",
              "      <td>0.0</td>\n",
              "      <td>0.0</td>\n",
              "      <td>0.0</td>\n",
              "      <td>33210.0</td>\n",
              "      <td>1186896.0</td>\n",
              "      <td>423270.0</td>\n",
              "      <td>...</td>\n",
              "      <td>2469208.0</td>\n",
              "      <td>1964.0</td>\n",
              "      <td>90.0</td>\n",
              "      <td>0.0</td>\n",
              "      <td>0.0</td>\n",
              "      <td>0.0</td>\n",
              "      <td>0.0</td>\n",
              "      <td>0.0</td>\n",
              "      <td>0.0</td>\n",
              "      <td>0.0</td>\n",
              "      <td>0.0</td>\n",
              "      <td>21998.0</td>\n",
              "      <td>48806.0</td>\n",
              "      <td>16928.0</td>\n",
              "      <td>0.0</td>\n",
              "      <td>0.0</td>\n",
              "      <td>75156.0</td>\n",
              "      <td>11986.0</td>\n",
              "      <td>6138380.0</td>\n",
              "      <td>623008.0</td>\n",
              "      <td>0.0</td>\n",
              "      <td>0.0</td>\n",
              "      <td>0.0</td>\n",
              "      <td>0.0</td>\n",
              "      <td>2811960.0</td>\n",
              "      <td>869.20</td>\n",
              "      <td>908.0</td>\n",
              "      <td>664060.0</td>\n",
              "      <td>443826.0</td>\n",
              "      <td>346962.0</td>\n",
              "      <td>190796.0</td>\n",
              "      <td>447854.0</td>\n",
              "      <td>495106.0</td>\n",
              "      <td>452514.0</td>\n",
              "      <td>46858.0</td>\n",
              "      <td>326.0</td>\n",
              "      <td>0.0</td>\n",
              "      <td>0.0</td>\n",
              "      <td>0.0</td>\n",
              "      <td>False</td>\n",
              "    </tr>\n",
              "    <tr>\n",
              "      <th>3</th>\n",
              "      <td>8438</td>\n",
              "      <td>0.0</td>\n",
              "      <td>2.880000e+02</td>\n",
              "      <td>208.0</td>\n",
              "      <td>0.0</td>\n",
              "      <td>0.0</td>\n",
              "      <td>0.0</td>\n",
              "      <td>0.0</td>\n",
              "      <td>0.0</td>\n",
              "      <td>0.0</td>\n",
              "      <td>35656.0</td>\n",
              "      <td>411906.0</td>\n",
              "      <td>208880.0</td>\n",
              "      <td>5238.0</td>\n",
              "      <td>28.0</td>\n",
              "      <td>0.0</td>\n",
              "      <td>289424.0</td>\n",
              "      <td>0.0</td>\n",
              "      <td>0.0</td>\n",
              "      <td>0.0</td>\n",
              "      <td>790.0</td>\n",
              "      <td>3882.0</td>\n",
              "      <td>610196.0</td>\n",
              "      <td>506076.0</td>\n",
              "      <td>255038.0</td>\n",
              "      <td>80128.0</td>\n",
              "      <td>0.0</td>\n",
              "      <td>0.0</td>\n",
              "      <td>0.0</td>\n",
              "      <td>0.0</td>\n",
              "      <td>318.0</td>\n",
              "      <td>654.0</td>\n",
              "      <td>0.0</td>\n",
              "      <td>0.0</td>\n",
              "      <td>0.0</td>\n",
              "      <td>0.0</td>\n",
              "      <td>0.0</td>\n",
              "      <td>0.0</td>\n",
              "      <td>0.0</td>\n",
              "      <td>158738.0</td>\n",
              "      <td>...</td>\n",
              "      <td>578148.0</td>\n",
              "      <td>948.0</td>\n",
              "      <td>978.0</td>\n",
              "      <td>0.0</td>\n",
              "      <td>0.0</td>\n",
              "      <td>0.0</td>\n",
              "      <td>0.0</td>\n",
              "      <td>0.0</td>\n",
              "      <td>0.0</td>\n",
              "      <td>0.0</td>\n",
              "      <td>0.0</td>\n",
              "      <td>6104.0</td>\n",
              "      <td>1886.0</td>\n",
              "      <td>688.0</td>\n",
              "      <td>1902018.0</td>\n",
              "      <td>210004.0</td>\n",
              "      <td>32816.0</td>\n",
              "      <td>5180.0</td>\n",
              "      <td>2061620.0</td>\n",
              "      <td>209102.0</td>\n",
              "      <td>711970.0</td>\n",
              "      <td>10788.0</td>\n",
              "      <td>0.0</td>\n",
              "      <td>0.0</td>\n",
              "      <td>0.0</td>\n",
              "      <td>1404.42</td>\n",
              "      <td>898.0</td>\n",
              "      <td>100118.0</td>\n",
              "      <td>203862.0</td>\n",
              "      <td>93918.0</td>\n",
              "      <td>29194.0</td>\n",
              "      <td>52906.0</td>\n",
              "      <td>43192.0</td>\n",
              "      <td>28096.0</td>\n",
              "      <td>108344.0</td>\n",
              "      <td>2078.0</td>\n",
              "      <td>0.0</td>\n",
              "      <td>0.0</td>\n",
              "      <td>0.0</td>\n",
              "      <td>False</td>\n",
              "    </tr>\n",
              "    <tr>\n",
              "      <th>4</th>\n",
              "      <td>6</td>\n",
              "      <td>0.0</td>\n",
              "      <td>0.000000e+00</td>\n",
              "      <td>0.0</td>\n",
              "      <td>0.0</td>\n",
              "      <td>0.0</td>\n",
              "      <td>0.0</td>\n",
              "      <td>0.0</td>\n",
              "      <td>0.0</td>\n",
              "      <td>0.0</td>\n",
              "      <td>16.0</td>\n",
              "      <td>2304.0</td>\n",
              "      <td>8214.0</td>\n",
              "      <td>1212.0</td>\n",
              "      <td>0.0</td>\n",
              "      <td>0.0</td>\n",
              "      <td>3098.0</td>\n",
              "      <td>0.0</td>\n",
              "      <td>0.0</td>\n",
              "      <td>0.0</td>\n",
              "      <td>0.0</td>\n",
              "      <td>0.0</td>\n",
              "      <td>10994.0</td>\n",
              "      <td>9260.0</td>\n",
              "      <td>15332.0</td>\n",
              "      <td>414.0</td>\n",
              "      <td>0.0</td>\n",
              "      <td>0.0</td>\n",
              "      <td>0.0</td>\n",
              "      <td>0.0</td>\n",
              "      <td>0.0</td>\n",
              "      <td>16.0</td>\n",
              "      <td>0.0</td>\n",
              "      <td>0.0</td>\n",
              "      <td>0.0</td>\n",
              "      <td>0.0</td>\n",
              "      <td>0.0</td>\n",
              "      <td>0.0</td>\n",
              "      <td>0.0</td>\n",
              "      <td>8212.0</td>\n",
              "      <td>...</td>\n",
              "      <td>1806.0</td>\n",
              "      <td>40.0</td>\n",
              "      <td>52.0</td>\n",
              "      <td>0.0</td>\n",
              "      <td>0.0</td>\n",
              "      <td>0.0</td>\n",
              "      <td>0.0</td>\n",
              "      <td>0.0</td>\n",
              "      <td>0.0</td>\n",
              "      <td>0.0</td>\n",
              "      <td>0.0</td>\n",
              "      <td>116.0</td>\n",
              "      <td>0.0</td>\n",
              "      <td>0.0</td>\n",
              "      <td>0.0</td>\n",
              "      <td>0.0</td>\n",
              "      <td>20.0</td>\n",
              "      <td>8.0</td>\n",
              "      <td>620.0</td>\n",
              "      <td>74.0</td>\n",
              "      <td>0.0</td>\n",
              "      <td>0.0</td>\n",
              "      <td>0.0</td>\n",
              "      <td>0.0</td>\n",
              "      <td>0.0</td>\n",
              "      <td>101.46</td>\n",
              "      <td>32.0</td>\n",
              "      <td>10526.0</td>\n",
              "      <td>1076.0</td>\n",
              "      <td>36.0</td>\n",
              "      <td>10.0</td>\n",
              "      <td>28.0</td>\n",
              "      <td>24.0</td>\n",
              "      <td>16.0</td>\n",
              "      <td>30.0</td>\n",
              "      <td>0.0</td>\n",
              "      <td>0.0</td>\n",
              "      <td>0.0</td>\n",
              "      <td>0.0</td>\n",
              "      <td>False</td>\n",
              "    </tr>\n",
              "  </tbody>\n",
              "</table>\n",
              "<p>5 rows × 171 columns</p>\n",
              "</div>"
            ],
            "text/plain": [
              "        0    1             2      3    4  ...      166  167  168  169  target\n",
              "0       4  NaN  2.000000e+01    8.0  0.0  ...      0.0  0.0  0.0  0.0   False\n",
              "1  192902  NaN           NaN    NaN  NaN  ...  13692.0  0.0  NaN  NaN   False\n",
              "2   42812  NaN  2.130706e+09  264.0  0.0  ...    326.0  0.0  0.0  0.0   False\n",
              "3    8438  0.0  2.880000e+02  208.0  0.0  ...   2078.0  0.0  0.0  0.0   False\n",
              "4       6  0.0  0.000000e+00    0.0  0.0  ...      0.0  0.0  0.0  0.0   False\n",
              "\n",
              "[5 rows x 171 columns]"
            ]
          },
          "metadata": {
            "tags": []
          },
          "execution_count": 86
        }
      ]
    },
    {
      "cell_type": "code",
      "metadata": {
        "id": "4mYCStATV8bc",
        "colab_type": "code",
        "outputId": "7e0970b1-eb85-49ef-8431-acfac5145d7b",
        "colab": {
          "base_uri": "https://localhost:8080/",
          "height": 51
        }
      },
      "source": [
        "print(f'train has {train.shape[0]} rows and {train.shape[1]} columns')  #checking the shape of training data\n",
        "print(f'test has {test.shape[0]} rows and {test.shape[1]} columns')  #checking the shape of the testing data"
      ],
      "execution_count": 87,
      "outputs": [
        {
          "output_type": "stream",
          "text": [
            "train has 60000 rows and 171 columns\n",
            "test has 16000 rows and 170 columns\n"
          ],
          "name": "stdout"
        }
      ]
    },
    {
      "cell_type": "code",
      "metadata": {
        "id": "nlhIRbqxcP2O",
        "colab_type": "code",
        "outputId": "612dba25-f707-429f-9e95-b2139bbedd8c",
        "colab": {
          "base_uri": "https://localhost:8080/",
          "height": 102
        }
      },
      "source": [
        "train.info() #checking for the information of train data"
      ],
      "execution_count": 88,
      "outputs": [
        {
          "output_type": "stream",
          "text": [
            "<class 'pandas.core.frame.DataFrame'>\n",
            "RangeIndex: 60000 entries, 0 to 59999\n",
            "Columns: 171 entries, 0 to target\n",
            "dtypes: bool(1), float64(169), int64(1)\n",
            "memory usage: 77.9 MB\n"
          ],
          "name": "stdout"
        }
      ]
    },
    {
      "cell_type": "code",
      "metadata": {
        "id": "SYDOXSV3u36E",
        "colab_type": "code",
        "outputId": "4300dcf9-3911-4387-de30-5431b2fdde57",
        "colab": {
          "base_uri": "https://localhost:8080/",
          "height": 102
        }
      },
      "source": [
        "test.info() #checking for the inforation of test data"
      ],
      "execution_count": 89,
      "outputs": [
        {
          "output_type": "stream",
          "text": [
            "<class 'pandas.core.frame.DataFrame'>\n",
            "RangeIndex: 16000 entries, 0 to 15999\n",
            "Columns: 170 entries, 0 to 169\n",
            "dtypes: float64(169), int64(1)\n",
            "memory usage: 20.8 MB\n"
          ],
          "name": "stdout"
        }
      ]
    },
    {
      "cell_type": "code",
      "metadata": {
        "id": "EPzViR3beH6H",
        "colab_type": "code",
        "outputId": "f0f2f399-69ce-4ef7-ce0a-0fa0f4acaaa5",
        "colab": {
          "base_uri": "https://localhost:8080/",
          "height": 221
        }
      },
      "source": [
        "train.apply(lambda x: x.isnull().sum())    #checking the null values"
      ],
      "execution_count": 90,
      "outputs": [
        {
          "output_type": "execute_result",
          "data": {
            "text/plain": [
              "0             0\n",
              "1         46329\n",
              "2          3335\n",
              "3         14861\n",
              "4          2500\n",
              "          ...  \n",
              "166         671\n",
              "167         671\n",
              "168        2724\n",
              "169        2723\n",
              "target        0\n",
              "Length: 171, dtype: int64"
            ]
          },
          "metadata": {
            "tags": []
          },
          "execution_count": 90
        }
      ]
    },
    {
      "cell_type": "code",
      "metadata": {
        "id": "zRaw_GSncQF0",
        "colab_type": "code",
        "colab": {}
      },
      "source": [
        "#dropping the columns which has more than 60% null values\n",
        "def d_null(df):\n",
        "  null_cols = [col for col in df.columns if df[col].isnull().sum() / df.shape[0] > 0.6]\n",
        "  df.drop(null_cols,axis=1,inplace=True)"
      ],
      "execution_count": 0,
      "outputs": []
    },
    {
      "cell_type": "code",
      "metadata": {
        "id": "lUS1mTDO8T2A",
        "colab_type": "code",
        "colab": {}
      },
      "source": [
        "d_null(train)\n",
        "d_null(test)"
      ],
      "execution_count": 0,
      "outputs": []
    },
    {
      "cell_type": "code",
      "metadata": {
        "id": "n6w4Lw7S8p_O",
        "colab_type": "code",
        "outputId": "087549d7-c51c-49b7-e83b-8421c1fd8e56",
        "colab": {
          "base_uri": "https://localhost:8080/",
          "height": 51
        }
      },
      "source": [
        "#et's check the shape after deleting null_cols\n",
        "print(f'train has {train.shape[0]} rows and {train.shape[1]} columns')  \n",
        "print(f'test has {test.shape[0]} rows and {test.shape[1]} columns')  "
      ],
      "execution_count": 93,
      "outputs": [
        {
          "output_type": "stream",
          "text": [
            "train has 60000 rows and 163 columns\n",
            "test has 16000 rows and 162 columns\n"
          ],
          "name": "stdout"
        }
      ]
    },
    {
      "cell_type": "code",
      "metadata": {
        "id": "27AfRRLnV82n",
        "colab_type": "code",
        "outputId": "82a9407d-608c-4234-8240-1003bfa09a74",
        "colab": {
          "base_uri": "https://localhost:8080/",
          "height": 68
        }
      },
      "source": [
        "#looking at the target column\n",
        "train['target'].value_counts()"
      ],
      "execution_count": 94,
      "outputs": [
        {
          "output_type": "execute_result",
          "data": {
            "text/plain": [
              "False    59000\n",
              "True      1000\n",
              "Name: target, dtype: int64"
            ]
          },
          "metadata": {
            "tags": []
          },
          "execution_count": 94
        }
      ]
    },
    {
      "cell_type": "code",
      "metadata": {
        "id": "B5C0d0QSfF94",
        "colab_type": "code",
        "outputId": "7f1ec4be-8a80-4d19-895b-e145ddc554b6",
        "colab": {
          "base_uri": "https://localhost:8080/",
          "height": 111
        }
      },
      "source": [
        "#as we can see there is a high class imbalance\n",
        "trainf = train['target'].value_counts().reset_index().rename({'index':'Values','target':'Count'},axis=1)\n",
        "trainf['Shares'] = np.round(trainf['Count']/trainf['Count'].sum(),6)\n",
        "trainf"
      ],
      "execution_count": 95,
      "outputs": [
        {
          "output_type": "execute_result",
          "data": {
            "text/html": [
              "<div>\n",
              "<style scoped>\n",
              "    .dataframe tbody tr th:only-of-type {\n",
              "        vertical-align: middle;\n",
              "    }\n",
              "\n",
              "    .dataframe tbody tr th {\n",
              "        vertical-align: top;\n",
              "    }\n",
              "\n",
              "    .dataframe thead th {\n",
              "        text-align: right;\n",
              "    }\n",
              "</style>\n",
              "<table border=\"1\" class=\"dataframe\">\n",
              "  <thead>\n",
              "    <tr style=\"text-align: right;\">\n",
              "      <th></th>\n",
              "      <th>Values</th>\n",
              "      <th>Count</th>\n",
              "      <th>Shares</th>\n",
              "    </tr>\n",
              "  </thead>\n",
              "  <tbody>\n",
              "    <tr>\n",
              "      <th>0</th>\n",
              "      <td>False</td>\n",
              "      <td>59000</td>\n",
              "      <td>0.983333</td>\n",
              "    </tr>\n",
              "    <tr>\n",
              "      <th>1</th>\n",
              "      <td>True</td>\n",
              "      <td>1000</td>\n",
              "      <td>0.016667</td>\n",
              "    </tr>\n",
              "  </tbody>\n",
              "</table>\n",
              "</div>"
            ],
            "text/plain": [
              "   Values  Count    Shares\n",
              "0   False  59000  0.983333\n",
              "1    True   1000  0.016667"
            ]
          },
          "metadata": {
            "tags": []
          },
          "execution_count": 95
        }
      ]
    },
    {
      "cell_type": "code",
      "metadata": {
        "id": "DfYdIf2D0tdW",
        "colab_type": "code",
        "outputId": "31a929ca-f315-4bfd-a14a-5986491a20f3",
        "colab": {
          "base_uri": "https://localhost:8080/",
          "height": 370
        }
      },
      "source": [
        "#let's plot the distribution of target variable\n",
        "train.groupby('target')['target'].count().plot(kind='bar',\n",
        "          title='Distribution of Target in Train',color=('b','r'),                           \n",
        "          figsize=(8, 5))\n",
        "plt.show()"
      ],
      "execution_count": 96,
      "outputs": [
        {
          "output_type": "display_data",
          "data": {
            "image/png": "[encoded data removed]",
            "text/plain": [
              "<Figure size 576x360 with 1 Axes>"
            ]
          },
          "metadata": {
            "tags": []
          }
        }
      ]
    },
    {
      "cell_type": "code",
      "metadata": {
        "id": "5E_9LJbyg8Ru",
        "colab_type": "code",
        "colab": {}
      },
      "source": [
        "#From above graph it is evidient that the dataset has high class imbalance\n",
        "#98.3% has 'False' class whereas only 1.6% has True class. "
      ],
      "execution_count": 0,
      "outputs": []
    },
    {
      "cell_type": "code",
      "metadata": {
        "id": "zqEzcbAQiAOj",
        "colab_type": "code",
        "outputId": "1e9fd63f-ebed-498a-c80d-810b6c9c23bd",
        "colab": {
          "base_uri": "https://localhost:8080/",
          "height": 346
        }
      },
      "source": [
        "train.describe()  #descritive statistics of train date"
      ],
      "execution_count": 98,
      "outputs": [
        {
          "output_type": "execute_result",
          "data": {
            "text/html": [
              "<div>\n",
              "<style scoped>\n",
              "    .dataframe tbody tr th:only-of-type {\n",
              "        vertical-align: middle;\n",
              "    }\n",
              "\n",
              "    .dataframe tbody tr th {\n",
              "        vertical-align: top;\n",
              "    }\n",
              "\n",
              "    .dataframe thead th {\n",
              "        text-align: right;\n",
              "    }\n",
              "</style>\n",
              "<table border=\"1\" class=\"dataframe\">\n",
              "  <thead>\n",
              "    <tr style=\"text-align: right;\">\n",
              "      <th></th>\n",
              "      <th>0</th>\n",
              "      <th>2</th>\n",
              "      <th>3</th>\n",
              "      <th>4</th>\n",
              "      <th>5</th>\n",
              "      <th>6</th>\n",
              "      <th>7</th>\n",
              "      <th>8</th>\n",
              "      <th>9</th>\n",
              "      <th>10</th>\n",
              "      <th>11</th>\n",
              "      <th>12</th>\n",
              "      <th>13</th>\n",
              "      <th>14</th>\n",
              "      <th>15</th>\n",
              "      <th>16</th>\n",
              "      <th>17</th>\n",
              "      <th>18</th>\n",
              "      <th>19</th>\n",
              "      <th>20</th>\n",
              "      <th>21</th>\n",
              "      <th>22</th>\n",
              "      <th>23</th>\n",
              "      <th>24</th>\n",
              "      <th>25</th>\n",
              "      <th>26</th>\n",
              "      <th>27</th>\n",
              "      <th>28</th>\n",
              "      <th>29</th>\n",
              "      <th>30</th>\n",
              "      <th>31</th>\n",
              "      <th>32</th>\n",
              "      <th>33</th>\n",
              "      <th>34</th>\n",
              "      <th>35</th>\n",
              "      <th>36</th>\n",
              "      <th>37</th>\n",
              "      <th>38</th>\n",
              "      <th>39</th>\n",
              "      <th>40</th>\n",
              "      <th>...</th>\n",
              "      <th>130</th>\n",
              "      <th>131</th>\n",
              "      <th>132</th>\n",
              "      <th>133</th>\n",
              "      <th>134</th>\n",
              "      <th>135</th>\n",
              "      <th>136</th>\n",
              "      <th>137</th>\n",
              "      <th>138</th>\n",
              "      <th>139</th>\n",
              "      <th>140</th>\n",
              "      <th>141</th>\n",
              "      <th>142</th>\n",
              "      <th>143</th>\n",
              "      <th>144</th>\n",
              "      <th>145</th>\n",
              "      <th>146</th>\n",
              "      <th>147</th>\n",
              "      <th>148</th>\n",
              "      <th>149</th>\n",
              "      <th>150</th>\n",
              "      <th>151</th>\n",
              "      <th>152</th>\n",
              "      <th>153</th>\n",
              "      <th>154</th>\n",
              "      <th>155</th>\n",
              "      <th>156</th>\n",
              "      <th>157</th>\n",
              "      <th>158</th>\n",
              "      <th>159</th>\n",
              "      <th>160</th>\n",
              "      <th>161</th>\n",
              "      <th>162</th>\n",
              "      <th>163</th>\n",
              "      <th>164</th>\n",
              "      <th>165</th>\n",
              "      <th>166</th>\n",
              "      <th>167</th>\n",
              "      <th>168</th>\n",
              "      <th>169</th>\n",
              "    </tr>\n",
              "  </thead>\n",
              "  <tbody>\n",
              "    <tr>\n",
              "      <th>count</th>\n",
              "      <td>6.000000e+04</td>\n",
              "      <td>5.666500e+04</td>\n",
              "      <td>4.513900e+04</td>\n",
              "      <td>57500.000000</td>\n",
              "      <td>57500.000000</td>\n",
              "      <td>5.932900e+04</td>\n",
              "      <td>5.932900e+04</td>\n",
              "      <td>5.932900e+04</td>\n",
              "      <td>5.932900e+04</td>\n",
              "      <td>5.932900e+04</td>\n",
              "      <td>5.932900e+04</td>\n",
              "      <td>5.932900e+04</td>\n",
              "      <td>5.932900e+04</td>\n",
              "      <td>5.932900e+04</td>\n",
              "      <td>5.932900e+04</td>\n",
              "      <td>5.935500e+04</td>\n",
              "      <td>5.937100e+04</td>\n",
              "      <td>5.937100e+04</td>\n",
              "      <td>5.560000e+04</td>\n",
              "      <td>5.935800e+04</td>\n",
              "      <td>5.937100e+04</td>\n",
              "      <td>5.935800e+04</td>\n",
              "      <td>5.941100e+04</td>\n",
              "      <td>5.935800e+04</td>\n",
              "      <td>5.941100e+04</td>\n",
              "      <td>57277.000000</td>\n",
              "      <td>5.937100e+04</td>\n",
              "      <td>5.937100e+04</td>\n",
              "      <td>5.937100e+04</td>\n",
              "      <td>57500.000000</td>\n",
              "      <td>57499.000000</td>\n",
              "      <td>5.932900e+04</td>\n",
              "      <td>5.932900e+04</td>\n",
              "      <td>5.932900e+04</td>\n",
              "      <td>5.932900e+04</td>\n",
              "      <td>5.932900e+04</td>\n",
              "      <td>5.932900e+04</td>\n",
              "      <td>5.932900e+04</td>\n",
              "      <td>5.932900e+04</td>\n",
              "      <td>5.932900e+04</td>\n",
              "      <td>...</td>\n",
              "      <td>46192.000000</td>\n",
              "      <td>4.619200e+04</td>\n",
              "      <td>57497.000000</td>\n",
              "      <td>57276.000000</td>\n",
              "      <td>5.599200e+04</td>\n",
              "      <td>5.599200e+04</td>\n",
              "      <td>5.599200e+04</td>\n",
              "      <td>5.599400e+04</td>\n",
              "      <td>55993.000000</td>\n",
              "      <td>5.599300e+04</td>\n",
              "      <td>5.599200e+04</td>\n",
              "      <td>5.599100e+04</td>\n",
              "      <td>5.930900e+04</td>\n",
              "      <td>5.727600e+04</td>\n",
              "      <td>57274.000000</td>\n",
              "      <td>5.727400e+04</td>\n",
              "      <td>5.727400e+04</td>\n",
              "      <td>5.727300e+04</td>\n",
              "      <td>57273.000000</td>\n",
              "      <td>5.727400e+04</td>\n",
              "      <td>5.727400e+04</td>\n",
              "      <td>5.727700e+04</td>\n",
              "      <td>5.727600e+04</td>\n",
              "      <td>57277.000000</td>\n",
              "      <td>57277.000000</td>\n",
              "      <td>5.599300e+04</td>\n",
              "      <td>49761.000000</td>\n",
              "      <td>50447.000000</td>\n",
              "      <td>5.932900e+04</td>\n",
              "      <td>5.932900e+04</td>\n",
              "      <td>5.932900e+04</td>\n",
              "      <td>5.932900e+04</td>\n",
              "      <td>5.932900e+04</td>\n",
              "      <td>5.932900e+04</td>\n",
              "      <td>5.932900e+04</td>\n",
              "      <td>5.932900e+04</td>\n",
              "      <td>5.932900e+04</td>\n",
              "      <td>5.932900e+04</td>\n",
              "      <td>57276.000000</td>\n",
              "      <td>57277.000000</td>\n",
              "    </tr>\n",
              "    <tr>\n",
              "      <th>mean</th>\n",
              "      <td>5.933650e+04</td>\n",
              "      <td>3.560143e+08</td>\n",
              "      <td>1.906206e+05</td>\n",
              "      <td>6.819130</td>\n",
              "      <td>11.006817</td>\n",
              "      <td>2.216364e+02</td>\n",
              "      <td>9.757223e+02</td>\n",
              "      <td>8.606015e+03</td>\n",
              "      <td>8.859128e+04</td>\n",
              "      <td>4.370966e+05</td>\n",
              "      <td>1.108374e+06</td>\n",
              "      <td>1.657818e+06</td>\n",
              "      <td>4.993098e+05</td>\n",
              "      <td>3.556989e+04</td>\n",
              "      <td>5.114753e+03</td>\n",
              "      <td>1.809931e+06</td>\n",
              "      <td>9.016965e+03</td>\n",
              "      <td>1.143675e+03</td>\n",
              "      <td>9.794900e+02</td>\n",
              "      <td>5.913048e+04</td>\n",
              "      <td>9.328133e+04</td>\n",
              "      <td>3.461037e+06</td>\n",
              "      <td>3.002440e+06</td>\n",
              "      <td>1.004160e+06</td>\n",
              "      <td>4.424045e+05</td>\n",
              "      <td>0.496918</td>\n",
              "      <td>1.267365e+02</td>\n",
              "      <td>5.072046e+03</td>\n",
              "      <td>2.305804e+02</td>\n",
              "      <td>1117.825913</td>\n",
              "      <td>374.327380</td>\n",
              "      <td>1.221165e+04</td>\n",
              "      <td>1.019012e+04</td>\n",
              "      <td>1.097500e+04</td>\n",
              "      <td>7.225784e+03</td>\n",
              "      <td>1.056600e+04</td>\n",
              "      <td>1.119791e+05</td>\n",
              "      <td>1.078551e+06</td>\n",
              "      <td>1.546032e+06</td>\n",
              "      <td>1.051123e+06</td>\n",
              "      <td>...</td>\n",
              "      <td>13.416652</td>\n",
              "      <td>2.200752e+06</td>\n",
              "      <td>3123.961911</td>\n",
              "      <td>375.147112</td>\n",
              "      <td>2.718638e+03</td>\n",
              "      <td>5.609957e+03</td>\n",
              "      <td>4.707073e+03</td>\n",
              "      <td>3.724824e+04</td>\n",
              "      <td>39.938564</td>\n",
              "      <td>1.861313e+03</td>\n",
              "      <td>2.854177e+04</td>\n",
              "      <td>7.923228e+03</td>\n",
              "      <td>3.374545e+04</td>\n",
              "      <td>2.850785e+04</td>\n",
              "      <td>6958.652722</td>\n",
              "      <td>4.529375e+06</td>\n",
              "      <td>2.037598e+05</td>\n",
              "      <td>8.965500e+04</td>\n",
              "      <td>15403.354670</td>\n",
              "      <td>4.058712e+06</td>\n",
              "      <td>5.938350e+05</td>\n",
              "      <td>7.912085e+05</td>\n",
              "      <td>7.780350e+03</td>\n",
              "      <td>0.215759</td>\n",
              "      <td>1.567750</td>\n",
              "      <td>9.717093e+06</td>\n",
              "      <td>1353.131452</td>\n",
              "      <td>1452.155212</td>\n",
              "      <td>7.334042e+05</td>\n",
              "      <td>7.838746e+05</td>\n",
              "      <td>4.454897e+05</td>\n",
              "      <td>2.111264e+05</td>\n",
              "      <td>4.457343e+05</td>\n",
              "      <td>3.939462e+05</td>\n",
              "      <td>3.330582e+05</td>\n",
              "      <td>3.462714e+05</td>\n",
              "      <td>1.387300e+05</td>\n",
              "      <td>8.388915e+03</td>\n",
              "      <td>0.090579</td>\n",
              "      <td>0.212756</td>\n",
              "    </tr>\n",
              "    <tr>\n",
              "      <th>std</th>\n",
              "      <td>1.454301e+05</td>\n",
              "      <td>7.948749e+08</td>\n",
              "      <td>4.040441e+07</td>\n",
              "      <td>161.543373</td>\n",
              "      <td>209.792592</td>\n",
              "      <td>2.047846e+04</td>\n",
              "      <td>3.420053e+04</td>\n",
              "      <td>1.503220e+05</td>\n",
              "      <td>7.617312e+05</td>\n",
              "      <td>2.374282e+06</td>\n",
              "      <td>3.262607e+06</td>\n",
              "      <td>3.909384e+06</td>\n",
              "      <td>1.422765e+06</td>\n",
              "      <td>2.201524e+05</td>\n",
              "      <td>1.696582e+05</td>\n",
              "      <td>4.185740e+06</td>\n",
              "      <td>1.632778e+05</td>\n",
              "      <td>5.035971e+04</td>\n",
              "      <td>7.583162e+04</td>\n",
              "      <td>5.394658e+05</td>\n",
              "      <td>8.494694e+05</td>\n",
              "      <td>7.790350e+06</td>\n",
              "      <td>6.819518e+06</td>\n",
              "      <td>3.088457e+06</td>\n",
              "      <td>1.262469e+06</td>\n",
              "      <td>5.511653</td>\n",
              "      <td>1.101004e+04</td>\n",
              "      <td>1.196159e+05</td>\n",
              "      <td>1.579952e+04</td>\n",
              "      <td>6598.611557</td>\n",
              "      <td>1482.711621</td>\n",
              "      <td>4.544963e+05</td>\n",
              "      <td>5.352707e+05</td>\n",
              "      <td>4.283370e+05</td>\n",
              "      <td>2.064679e+05</td>\n",
              "      <td>3.546258e+05</td>\n",
              "      <td>1.394585e+06</td>\n",
              "      <td>3.278941e+06</td>\n",
              "      <td>5.106177e+06</td>\n",
              "      <td>3.991050e+06</td>\n",
              "      <td>...</td>\n",
              "      <td>73.405610</td>\n",
              "      <td>4.110150e+06</td>\n",
              "      <td>9516.675102</td>\n",
              "      <td>1689.062059</td>\n",
              "      <td>1.373331e+05</td>\n",
              "      <td>2.085649e+05</td>\n",
              "      <td>5.602799e+05</td>\n",
              "      <td>4.254382e+05</td>\n",
              "      <td>4533.142182</td>\n",
              "      <td>6.659786e+04</td>\n",
              "      <td>1.095662e+06</td>\n",
              "      <td>2.775356e+05</td>\n",
              "      <td>9.733719e+04</td>\n",
              "      <td>6.125476e+04</td>\n",
              "      <td>13955.451781</td>\n",
              "      <td>9.748478e+07</td>\n",
              "      <td>1.366065e+06</td>\n",
              "      <td>2.082016e+05</td>\n",
              "      <td>33801.022975</td>\n",
              "      <td>1.156777e+07</td>\n",
              "      <td>2.082998e+06</td>\n",
              "      <td>4.151033e+06</td>\n",
              "      <td>5.924449e+04</td>\n",
              "      <td>10.821035</td>\n",
              "      <td>53.528722</td>\n",
              "      <td>4.274675e+07</td>\n",
              "      <td>3536.637285</td>\n",
              "      <td>3525.028652</td>\n",
              "      <td>2.416166e+06</td>\n",
              "      <td>2.570111e+06</td>\n",
              "      <td>1.155540e+06</td>\n",
              "      <td>5.433188e+05</td>\n",
              "      <td>1.168314e+06</td>\n",
              "      <td>1.121044e+06</td>\n",
              "      <td>1.069160e+06</td>\n",
              "      <td>1.728056e+06</td>\n",
              "      <td>4.495100e+05</td>\n",
              "      <td>4.747043e+04</td>\n",
              "      <td>4.368855</td>\n",
              "      <td>8.830641</td>\n",
              "    </tr>\n",
              "    <tr>\n",
              "      <th>min</th>\n",
              "      <td>0.000000e+00</td>\n",
              "      <td>0.000000e+00</td>\n",
              "      <td>0.000000e+00</td>\n",
              "      <td>0.000000</td>\n",
              "      <td>0.000000</td>\n",
              "      <td>0.000000e+00</td>\n",
              "      <td>0.000000e+00</td>\n",
              "      <td>0.000000e+00</td>\n",
              "      <td>0.000000e+00</td>\n",
              "      <td>0.000000e+00</td>\n",
              "      <td>0.000000e+00</td>\n",
              "      <td>0.000000e+00</td>\n",
              "      <td>0.000000e+00</td>\n",
              "      <td>0.000000e+00</td>\n",
              "      <td>0.000000e+00</td>\n",
              "      <td>0.000000e+00</td>\n",
              "      <td>0.000000e+00</td>\n",
              "      <td>0.000000e+00</td>\n",
              "      <td>0.000000e+00</td>\n",
              "      <td>0.000000e+00</td>\n",
              "      <td>0.000000e+00</td>\n",
              "      <td>0.000000e+00</td>\n",
              "      <td>0.000000e+00</td>\n",
              "      <td>0.000000e+00</td>\n",
              "      <td>0.000000e+00</td>\n",
              "      <td>0.000000</td>\n",
              "      <td>0.000000e+00</td>\n",
              "      <td>0.000000e+00</td>\n",
              "      <td>0.000000e+00</td>\n",
              "      <td>0.000000</td>\n",
              "      <td>0.000000</td>\n",
              "      <td>0.000000e+00</td>\n",
              "      <td>0.000000e+00</td>\n",
              "      <td>0.000000e+00</td>\n",
              "      <td>0.000000e+00</td>\n",
              "      <td>0.000000e+00</td>\n",
              "      <td>0.000000e+00</td>\n",
              "      <td>0.000000e+00</td>\n",
              "      <td>0.000000e+00</td>\n",
              "      <td>0.000000e+00</td>\n",
              "      <td>...</td>\n",
              "      <td>0.000000</td>\n",
              "      <td>0.000000e+00</td>\n",
              "      <td>0.000000</td>\n",
              "      <td>0.000000</td>\n",
              "      <td>0.000000e+00</td>\n",
              "      <td>0.000000e+00</td>\n",
              "      <td>0.000000e+00</td>\n",
              "      <td>0.000000e+00</td>\n",
              "      <td>0.000000</td>\n",
              "      <td>0.000000e+00</td>\n",
              "      <td>0.000000e+00</td>\n",
              "      <td>0.000000e+00</td>\n",
              "      <td>0.000000e+00</td>\n",
              "      <td>0.000000e+00</td>\n",
              "      <td>0.000000</td>\n",
              "      <td>0.000000e+00</td>\n",
              "      <td>0.000000e+00</td>\n",
              "      <td>0.000000e+00</td>\n",
              "      <td>0.000000</td>\n",
              "      <td>0.000000e+00</td>\n",
              "      <td>0.000000e+00</td>\n",
              "      <td>0.000000e+00</td>\n",
              "      <td>0.000000e+00</td>\n",
              "      <td>0.000000</td>\n",
              "      <td>0.000000</td>\n",
              "      <td>0.000000e+00</td>\n",
              "      <td>0.000000</td>\n",
              "      <td>0.000000</td>\n",
              "      <td>0.000000e+00</td>\n",
              "      <td>0.000000e+00</td>\n",
              "      <td>0.000000e+00</td>\n",
              "      <td>0.000000e+00</td>\n",
              "      <td>0.000000e+00</td>\n",
              "      <td>0.000000e+00</td>\n",
              "      <td>0.000000e+00</td>\n",
              "      <td>0.000000e+00</td>\n",
              "      <td>0.000000e+00</td>\n",
              "      <td>0.000000e+00</td>\n",
              "      <td>0.000000</td>\n",
              "      <td>0.000000</td>\n",
              "    </tr>\n",
              "    <tr>\n",
              "      <th>25%</th>\n",
              "      <td>8.340000e+02</td>\n",
              "      <td>1.600000e+01</td>\n",
              "      <td>2.400000e+01</td>\n",
              "      <td>0.000000</td>\n",
              "      <td>0.000000</td>\n",
              "      <td>0.000000e+00</td>\n",
              "      <td>0.000000e+00</td>\n",
              "      <td>0.000000e+00</td>\n",
              "      <td>0.000000e+00</td>\n",
              "      <td>3.080000e+02</td>\n",
              "      <td>1.383400e+04</td>\n",
              "      <td>1.060800e+04</td>\n",
              "      <td>0.000000e+00</td>\n",
              "      <td>0.000000e+00</td>\n",
              "      <td>0.000000e+00</td>\n",
              "      <td>2.973300e+04</td>\n",
              "      <td>0.000000e+00</td>\n",
              "      <td>0.000000e+00</td>\n",
              "      <td>0.000000e+00</td>\n",
              "      <td>0.000000e+00</td>\n",
              "      <td>0.000000e+00</td>\n",
              "      <td>7.323850e+04</td>\n",
              "      <td>6.558500e+04</td>\n",
              "      <td>2.518900e+04</td>\n",
              "      <td>4.161000e+03</td>\n",
              "      <td>0.000000</td>\n",
              "      <td>0.000000e+00</td>\n",
              "      <td>0.000000e+00</td>\n",
              "      <td>0.000000e+00</td>\n",
              "      <td>12.000000</td>\n",
              "      <td>10.000000</td>\n",
              "      <td>0.000000e+00</td>\n",
              "      <td>0.000000e+00</td>\n",
              "      <td>0.000000e+00</td>\n",
              "      <td>0.000000e+00</td>\n",
              "      <td>0.000000e+00</td>\n",
              "      <td>0.000000e+00</td>\n",
              "      <td>0.000000e+00</td>\n",
              "      <td>6.118000e+03</td>\n",
              "      <td>7.524000e+03</td>\n",
              "      <td>...</td>\n",
              "      <td>0.000000</td>\n",
              "      <td>2.655850e+04</td>\n",
              "      <td>132.000000</td>\n",
              "      <td>66.000000</td>\n",
              "      <td>0.000000e+00</td>\n",
              "      <td>0.000000e+00</td>\n",
              "      <td>0.000000e+00</td>\n",
              "      <td>0.000000e+00</td>\n",
              "      <td>0.000000</td>\n",
              "      <td>0.000000e+00</td>\n",
              "      <td>0.000000e+00</td>\n",
              "      <td>0.000000e+00</td>\n",
              "      <td>6.600000e+02</td>\n",
              "      <td>2.000000e+01</td>\n",
              "      <td>6.000000</td>\n",
              "      <td>0.000000e+00</td>\n",
              "      <td>0.000000e+00</td>\n",
              "      <td>6.840000e+02</td>\n",
              "      <td>150.000000</td>\n",
              "      <td>5.380000e+03</td>\n",
              "      <td>7.420000e+02</td>\n",
              "      <td>0.000000e+00</td>\n",
              "      <td>0.000000e+00</td>\n",
              "      <td>0.000000</td>\n",
              "      <td>0.000000</td>\n",
              "      <td>0.000000e+00</td>\n",
              "      <td>114.760000</td>\n",
              "      <td>98.000000</td>\n",
              "      <td>1.569800e+04</td>\n",
              "      <td>8.536000e+03</td>\n",
              "      <td>2.936000e+03</td>\n",
              "      <td>1.166000e+03</td>\n",
              "      <td>2.700000e+03</td>\n",
              "      <td>3.584000e+03</td>\n",
              "      <td>5.120000e+02</td>\n",
              "      <td>1.100000e+02</td>\n",
              "      <td>0.000000e+00</td>\n",
              "      <td>0.000000e+00</td>\n",
              "      <td>0.000000</td>\n",
              "      <td>0.000000</td>\n",
              "    </tr>\n",
              "    <tr>\n",
              "      <th>50%</th>\n",
              "      <td>3.077600e+04</td>\n",
              "      <td>1.520000e+02</td>\n",
              "      <td>1.260000e+02</td>\n",
              "      <td>0.000000</td>\n",
              "      <td>0.000000</td>\n",
              "      <td>0.000000e+00</td>\n",
              "      <td>0.000000e+00</td>\n",
              "      <td>0.000000e+00</td>\n",
              "      <td>0.000000e+00</td>\n",
              "      <td>3.672000e+03</td>\n",
              "      <td>1.760200e+05</td>\n",
              "      <td>9.303360e+05</td>\n",
              "      <td>1.192040e+05</td>\n",
              "      <td>1.786000e+03</td>\n",
              "      <td>0.000000e+00</td>\n",
              "      <td>1.002420e+06</td>\n",
              "      <td>0.000000e+00</td>\n",
              "      <td>0.000000e+00</td>\n",
              "      <td>0.000000e+00</td>\n",
              "      <td>0.000000e+00</td>\n",
              "      <td>0.000000e+00</td>\n",
              "      <td>1.918629e+06</td>\n",
              "      <td>1.643556e+06</td>\n",
              "      <td>3.572810e+05</td>\n",
              "      <td>1.787920e+05</td>\n",
              "      <td>0.000000</td>\n",
              "      <td>0.000000e+00</td>\n",
              "      <td>0.000000e+00</td>\n",
              "      <td>0.000000e+00</td>\n",
              "      <td>116.000000</td>\n",
              "      <td>66.000000</td>\n",
              "      <td>0.000000e+00</td>\n",
              "      <td>0.000000e+00</td>\n",
              "      <td>0.000000e+00</td>\n",
              "      <td>0.000000e+00</td>\n",
              "      <td>0.000000e+00</td>\n",
              "      <td>0.000000e+00</td>\n",
              "      <td>1.682020e+05</td>\n",
              "      <td>3.486220e+05</td>\n",
              "      <td>9.481200e+04</td>\n",
              "      <td>...</td>\n",
              "      <td>0.000000</td>\n",
              "      <td>1.734472e+06</td>\n",
              "      <td>1354.000000</td>\n",
              "      <td>144.000000</td>\n",
              "      <td>0.000000e+00</td>\n",
              "      <td>0.000000e+00</td>\n",
              "      <td>0.000000e+00</td>\n",
              "      <td>0.000000e+00</td>\n",
              "      <td>0.000000</td>\n",
              "      <td>0.000000e+00</td>\n",
              "      <td>0.000000e+00</td>\n",
              "      <td>0.000000e+00</td>\n",
              "      <td>1.433000e+04</td>\n",
              "      <td>1.037700e+04</td>\n",
              "      <td>2532.000000</td>\n",
              "      <td>0.000000e+00</td>\n",
              "      <td>0.000000e+00</td>\n",
              "      <td>4.794000e+04</td>\n",
              "      <td>8316.000000</td>\n",
              "      <td>1.854000e+05</td>\n",
              "      <td>3.059200e+04</td>\n",
              "      <td>0.000000e+00</td>\n",
              "      <td>0.000000e+00</td>\n",
              "      <td>0.000000</td>\n",
              "      <td>0.000000</td>\n",
              "      <td>6.221100e+05</td>\n",
              "      <td>754.400000</td>\n",
              "      <td>832.000000</td>\n",
              "      <td>2.607040e+05</td>\n",
              "      <td>3.469400e+05</td>\n",
              "      <td>2.337960e+05</td>\n",
              "      <td>1.120860e+05</td>\n",
              "      <td>2.215180e+05</td>\n",
              "      <td>1.899880e+05</td>\n",
              "      <td>9.243200e+04</td>\n",
              "      <td>4.109800e+04</td>\n",
              "      <td>3.812000e+03</td>\n",
              "      <td>0.000000e+00</td>\n",
              "      <td>0.000000</td>\n",
              "      <td>0.000000</td>\n",
              "    </tr>\n",
              "    <tr>\n",
              "      <th>75%</th>\n",
              "      <td>4.866800e+04</td>\n",
              "      <td>9.640000e+02</td>\n",
              "      <td>4.300000e+02</td>\n",
              "      <td>0.000000</td>\n",
              "      <td>0.000000</td>\n",
              "      <td>0.000000e+00</td>\n",
              "      <td>0.000000e+00</td>\n",
              "      <td>0.000000e+00</td>\n",
              "      <td>0.000000e+00</td>\n",
              "      <td>4.952200e+04</td>\n",
              "      <td>9.139640e+05</td>\n",
              "      <td>1.886608e+06</td>\n",
              "      <td>5.888200e+05</td>\n",
              "      <td>2.669000e+04</td>\n",
              "      <td>3.640000e+02</td>\n",
              "      <td>1.601366e+06</td>\n",
              "      <td>0.000000e+00</td>\n",
              "      <td>0.000000e+00</td>\n",
              "      <td>0.000000e+00</td>\n",
              "      <td>1.204000e+03</td>\n",
              "      <td>2.364000e+03</td>\n",
              "      <td>3.128416e+06</td>\n",
              "      <td>2.675796e+06</td>\n",
              "      <td>7.246605e+05</td>\n",
              "      <td>3.769000e+05</td>\n",
              "      <td>0.000000</td>\n",
              "      <td>0.000000e+00</td>\n",
              "      <td>0.000000e+00</td>\n",
              "      <td>0.000000e+00</td>\n",
              "      <td>646.000000</td>\n",
              "      <td>263.000000</td>\n",
              "      <td>0.000000e+00</td>\n",
              "      <td>0.000000e+00</td>\n",
              "      <td>0.000000e+00</td>\n",
              "      <td>0.000000e+00</td>\n",
              "      <td>0.000000e+00</td>\n",
              "      <td>4.013200e+04</td>\n",
              "      <td>1.270244e+06</td>\n",
              "      <td>1.337364e+06</td>\n",
              "      <td>6.118160e+05</td>\n",
              "      <td>...</td>\n",
              "      <td>18.000000</td>\n",
              "      <td>2.644938e+06</td>\n",
              "      <td>2678.000000</td>\n",
              "      <td>296.000000</td>\n",
              "      <td>0.000000e+00</td>\n",
              "      <td>0.000000e+00</td>\n",
              "      <td>0.000000e+00</td>\n",
              "      <td>0.000000e+00</td>\n",
              "      <td>0.000000</td>\n",
              "      <td>0.000000e+00</td>\n",
              "      <td>0.000000e+00</td>\n",
              "      <td>0.000000e+00</td>\n",
              "      <td>2.734000e+04</td>\n",
              "      <td>3.767200e+04</td>\n",
              "      <td>8319.500000</td>\n",
              "      <td>0.000000e+00</td>\n",
              "      <td>0.000000e+00</td>\n",
              "      <td>9.920200e+04</td>\n",
              "      <td>17630.000000</td>\n",
              "      <td>3.472540e+06</td>\n",
              "      <td>5.346555e+05</td>\n",
              "      <td>8.764000e+03</td>\n",
              "      <td>3.600000e+01</td>\n",
              "      <td>0.000000</td>\n",
              "      <td>0.000000</td>\n",
              "      <td>4.000270e+06</td>\n",
              "      <td>1379.380000</td>\n",
              "      <td>1504.000000</td>\n",
              "      <td>5.730600e+05</td>\n",
              "      <td>6.673900e+05</td>\n",
              "      <td>4.383960e+05</td>\n",
              "      <td>2.182320e+05</td>\n",
              "      <td>4.666140e+05</td>\n",
              "      <td>4.032220e+05</td>\n",
              "      <td>2.750940e+05</td>\n",
              "      <td>1.678140e+05</td>\n",
              "      <td>1.397240e+05</td>\n",
              "      <td>2.028000e+03</td>\n",
              "      <td>0.000000</td>\n",
              "      <td>0.000000</td>\n",
              "    </tr>\n",
              "    <tr>\n",
              "      <th>max</th>\n",
              "      <td>2.746564e+06</td>\n",
              "      <td>2.130707e+09</td>\n",
              "      <td>8.584298e+09</td>\n",
              "      <td>21050.000000</td>\n",
              "      <td>20070.000000</td>\n",
              "      <td>3.376892e+06</td>\n",
              "      <td>4.109372e+06</td>\n",
              "      <td>1.055286e+07</td>\n",
              "      <td>6.340207e+07</td>\n",
              "      <td>2.288306e+08</td>\n",
              "      <td>1.791880e+08</td>\n",
              "      <td>9.402067e+07</td>\n",
              "      <td>6.334675e+07</td>\n",
              "      <td>1.770252e+07</td>\n",
              "      <td>2.519851e+07</td>\n",
              "      <td>7.424732e+07</td>\n",
              "      <td>1.651285e+07</td>\n",
              "      <td>5.629340e+06</td>\n",
              "      <td>1.044492e+07</td>\n",
              "      <td>3.476258e+07</td>\n",
              "      <td>5.590351e+07</td>\n",
              "      <td>1.408618e+08</td>\n",
              "      <td>1.222018e+08</td>\n",
              "      <td>7.793494e+07</td>\n",
              "      <td>2.556265e+07</td>\n",
              "      <td>350.000000</td>\n",
              "      <td>1.655240e+06</td>\n",
              "      <td>1.040050e+07</td>\n",
              "      <td>2.626676e+06</td>\n",
              "      <td>794458.000000</td>\n",
              "      <td>116652.000000</td>\n",
              "      <td>5.055389e+07</td>\n",
              "      <td>8.052538e+07</td>\n",
              "      <td>2.847484e+07</td>\n",
              "      <td>1.394517e+07</td>\n",
              "      <td>4.002870e+07</td>\n",
              "      <td>1.249489e+08</td>\n",
              "      <td>1.276803e+08</td>\n",
              "      <td>4.896782e+08</td>\n",
              "      <td>1.045670e+08</td>\n",
              "      <td>...</td>\n",
              "      <td>9636.000000</td>\n",
              "      <td>1.207595e+08</td>\n",
              "      <td>445142.000000</td>\n",
              "      <td>176176.000000</td>\n",
              "      <td>2.161391e+07</td>\n",
              "      <td>2.706429e+07</td>\n",
              "      <td>1.247009e+08</td>\n",
              "      <td>2.298742e+07</td>\n",
              "      <td>726750.000000</td>\n",
              "      <td>5.483574e+06</td>\n",
              "      <td>1.038581e+08</td>\n",
              "      <td>2.369792e+07</td>\n",
              "      <td>2.924584e+06</td>\n",
              "      <td>1.874542e+06</td>\n",
              "      <td>348118.000000</td>\n",
              "      <td>6.351873e+09</td>\n",
              "      <td>5.013766e+07</td>\n",
              "      <td>4.970962e+06</td>\n",
              "      <td>656432.000000</td>\n",
              "      <td>4.602076e+08</td>\n",
              "      <td>1.270345e+08</td>\n",
              "      <td>1.142884e+08</td>\n",
              "      <td>3.793022e+06</td>\n",
              "      <td>1414.000000</td>\n",
              "      <td>8506.000000</td>\n",
              "      <td>1.322457e+09</td>\n",
              "      <td>106020.220000</td>\n",
              "      <td>82806.000000</td>\n",
              "      <td>7.498445e+07</td>\n",
              "      <td>9.822438e+07</td>\n",
              "      <td>7.793393e+07</td>\n",
              "      <td>3.775839e+07</td>\n",
              "      <td>9.715238e+07</td>\n",
              "      <td>5.743524e+07</td>\n",
              "      <td>3.160781e+07</td>\n",
              "      <td>1.195801e+08</td>\n",
              "      <td>1.926740e+07</td>\n",
              "      <td>3.810078e+06</td>\n",
              "      <td>482.000000</td>\n",
              "      <td>1146.000000</td>\n",
              "    </tr>\n",
              "  </tbody>\n",
              "</table>\n",
              "<p>8 rows × 162 columns</p>\n",
              "</div>"
            ],
            "text/plain": [
              "                  0             2  ...           168           169\n",
              "count  6.000000e+04  5.666500e+04  ...  57276.000000  57277.000000\n",
              "mean   5.933650e+04  3.560143e+08  ...      0.090579      0.212756\n",
              "std    1.454301e+05  7.948749e+08  ...      4.368855      8.830641\n",
              "min    0.000000e+00  0.000000e+00  ...      0.000000      0.000000\n",
              "25%    8.340000e+02  1.600000e+01  ...      0.000000      0.000000\n",
              "50%    3.077600e+04  1.520000e+02  ...      0.000000      0.000000\n",
              "75%    4.866800e+04  9.640000e+02  ...      0.000000      0.000000\n",
              "max    2.746564e+06  2.130707e+09  ...    482.000000   1146.000000\n",
              "\n",
              "[8 rows x 162 columns]"
            ]
          },
          "metadata": {
            "tags": []
          },
          "execution_count": 98
        }
      ]
    },
    {
      "cell_type": "code",
      "metadata": {
        "id": "mOSFw8WSoVDn",
        "colab_type": "code",
        "colab": {}
      },
      "source": [
        "#from above stastics it is evident that the datset has outiers.\n",
        "#mean won't be a best statistic to impute null values."
      ],
      "execution_count": 0,
      "outputs": []
    },
    {
      "cell_type": "code",
      "metadata": {
        "id": "qs286N6gryXW",
        "colab_type": "code",
        "colab": {}
      },
      "source": [
        "#imputing missing values using medi"
      ],
      "execution_count": 0,
      "outputs": []
    },
    {
      "cell_type": "code",
      "metadata": {
        "id": "s9kk_zjtxI2n",
        "colab_type": "code",
        "colab": {}
      },
      "source": [
        "def fill_val(df):\n",
        "  for i in df.columns:\n",
        "    df[i].fillna(df[i].median(),inplace=True)"
      ],
      "execution_count": 0,
      "outputs": []
    },
    {
      "cell_type": "code",
      "metadata": {
        "id": "LooJspEiuWHM",
        "colab_type": "code",
        "colab": {}
      },
      "source": [
        "fill_val(train)\n",
        "fill_val(test)"
      ],
      "execution_count": 0,
      "outputs": []
    },
    {
      "cell_type": "markdown",
      "metadata": {
        "id": "M06hAZy6xinp",
        "colab_type": "text"
      },
      "source": [
        "##Data Transformation"
      ]
    },
    {
      "cell_type": "code",
      "metadata": {
        "id": "v15Wenr-57gv",
        "colab_type": "code",
        "colab": {}
      },
      "source": [
        "#label encoding data\n",
        "le = LabelEncoder()\n",
        "train['target'] = le.fit_transform(train['target'])"
      ],
      "execution_count": 0,
      "outputs": []
    },
    {
      "cell_type": "code",
      "metadata": {
        "id": "4Z7XJQYXeKef",
        "colab_type": "code",
        "colab": {}
      },
      "source": [
        "y = train['target']"
      ],
      "execution_count": 0,
      "outputs": []
    },
    {
      "cell_type": "code",
      "metadata": {
        "id": "VileuJ72eRjU",
        "colab_type": "code",
        "colab": {}
      },
      "source": [
        "x = train.drop('target',axis=1)"
      ],
      "execution_count": 0,
      "outputs": []
    },
    {
      "cell_type": "code",
      "metadata": {
        "id": "lARv3_I-yHsN",
        "colab_type": "code",
        "colab": {}
      },
      "source": [
        "#Standardization\n",
        "sc=StandardScaler()\n",
        "X_ =sc.fit_transform(x)\n",
        "test = sc.fit_transform(test)"
      ],
      "execution_count": 0,
      "outputs": []
    },
    {
      "cell_type": "code",
      "metadata": {
        "id": "X6Qfu0QgyblQ",
        "colab_type": "code",
        "outputId": "ef1421fa-620f-4e24-849b-1cfdc1509afe",
        "colab": {
          "base_uri": "https://localhost:8080/",
          "height": 238
        }
      },
      "source": [
        "print(X_)"
      ],
      "execution_count": 107,
      "outputs": [
        {
          "output_type": "stream",
          "text": [
            "[[-0.40798302 -0.43285892 -0.00409275 ... -0.1756986  -0.02025676\n",
            "  -0.02353972]\n",
            " [ 0.9184251  -0.43285875 -0.00408938 ... -0.1756986  -0.02025676\n",
            "  -0.02353972]\n",
            " [-0.11362601  2.31022414 -0.00408545 ... -0.1756986  -0.02025676\n",
            "  -0.02353972]\n",
            " ...\n",
            " [-0.40801053 -0.43285895 -0.00408938 ... -0.1756986  -0.02025676\n",
            "  -0.02353972]\n",
            " [ 0.14344816 -0.43285771 -0.00406696 ... -0.1756986  -0.02025676\n",
            "  -0.02353972]\n",
            " [-0.40791426 -0.43285891 -0.00409235 ... -0.1756986  -0.02025676\n",
            "  -0.02353972]]\n"
          ],
          "name": "stdout"
        }
      ]
    },
    {
      "cell_type": "code",
      "metadata": {
        "id": "qBfMZRrP0tiL",
        "colab_type": "code",
        "colab": {}
      },
      "source": [
        "#Applying Pca for dimensionality reduction and checking explained variance ratio sum\n",
        "abc=[]\n",
        "from sklearn.decomposition import PCA\n",
        "for i in range(1,55):\n",
        "  pca = PCA(n_components = i)\n",
        "  pca.fit(X_)\n",
        "  abc.append(pca.explained_variance_ratio_.sum())"
      ],
      "execution_count": 0,
      "outputs": []
    },
    {
      "cell_type": "code",
      "metadata": {
        "id": "cL85f07zdXVM",
        "colab_type": "code",
        "outputId": "95960153-639e-4a09-e5b3-67efa6dbb416",
        "colab": {
          "base_uri": "https://localhost:8080/",
          "height": 354
        }
      },
      "source": [
        "#visuaizing to get the number of dimensions from which we can get more than 85% of information\n",
        "from matplotlib import style\n",
        "style.use('ggplot')\n",
        "plt.figure(figsize=(15,5))\n",
        "plt.plot(abc)\n",
        "plt.axvline(x=51)\n",
        "plt.xlim(0,55)\n",
        "plt.xticks(range(1,55))\n",
        "plt.title('PCA TRANSFORMATION')\n",
        "plt.xlabel('Number of columns')\n",
        "plt.ylabel('Information gain')\n",
        "plt.show()"
      ],
      "execution_count": 109,
      "outputs": [
        {
          "output_type": "display_data",
          "data": {
            "image/png": "[encoded data removed]",
            "text/plain": [
              "<Figure size 1080x360 with 1 Axes>"
            ]
          },
          "metadata": {
            "tags": []
          }
        }
      ]
    },
    {
      "cell_type": "code",
      "metadata": {
        "id": "-tlsycLydXa5",
        "colab_type": "code",
        "outputId": "6ac223c5-a1b4-4622-d925-7115e8a79a70",
        "colab": {
          "base_uri": "https://localhost:8080/",
          "height": 51
        }
      },
      "source": [
        "#fitting and tranforming data with 43 components\n",
        "pca = PCA(n_components = 51)\n",
        "pca.fit(X_)"
      ],
      "execution_count": 110,
      "outputs": [
        {
          "output_type": "execute_result",
          "data": {
            "text/plain": [
              "PCA(copy=True, iterated_power='auto', n_components=51, random_state=None,\n",
              "    svd_solver='auto', tol=0.0, whiten=False)"
            ]
          },
          "metadata": {
            "tags": []
          },
          "execution_count": 110
        }
      ]
    },
    {
      "cell_type": "code",
      "metadata": {
        "id": "fYGWyNg2dXfz",
        "colab_type": "code",
        "outputId": "9a6d861b-0706-4f43-f044-17aa4f2f2f89",
        "colab": {
          "base_uri": "https://localhost:8080/",
          "height": 34
        }
      },
      "source": [
        "pca.explained_variance_ratio_.sum()"
      ],
      "execution_count": 111,
      "outputs": [
        {
          "output_type": "execute_result",
          "data": {
            "text/plain": [
              "0.8594595747782686"
            ]
          },
          "metadata": {
            "tags": []
          },
          "execution_count": 111
        }
      ]
    },
    {
      "cell_type": "code",
      "metadata": {
        "id": "incXDpSm0tq5",
        "colab_type": "code",
        "colab": {}
      },
      "source": [
        "x_train=pca.transform(X_)"
      ],
      "execution_count": 0,
      "outputs": []
    },
    {
      "cell_type": "code",
      "metadata": {
        "id": "jXY7RxskL5Xw",
        "colab_type": "code",
        "colab": {}
      },
      "source": [
        "test=pca.fit_transform(test)"
      ],
      "execution_count": 0,
      "outputs": []
    },
    {
      "cell_type": "code",
      "metadata": {
        "id": "nxpT5qIr4Ent",
        "colab_type": "code",
        "colab": {}
      },
      "source": [
        "#splitting the dataset in train and test\n",
        "x_train,x_test,y_train,y_test = train_test_split(x_train,y,stratify = y,test_size = 0.3, random_state=1)"
      ],
      "execution_count": 0,
      "outputs": []
    },
    {
      "cell_type": "code",
      "metadata": {
        "id": "PvpBHa5A4E1o",
        "colab_type": "code",
        "outputId": "dad02453-a508-4d86-ce11-79b4e3936883",
        "colab": {
          "base_uri": "https://localhost:8080/",
          "height": 51
        }
      },
      "source": [
        "print('Number of  false cases in entire dataset',len(train[train['target']==0]))\n",
        "print('Number of true cases in entire dataset',len(train[train['target']==1]))"
      ],
      "execution_count": 115,
      "outputs": [
        {
          "output_type": "stream",
          "text": [
            "Number of  false cases in entire dataset 59000\n",
            "Number of true cases in entire dataset 1000\n"
          ],
          "name": "stdout"
        }
      ]
    },
    {
      "cell_type": "code",
      "metadata": {
        "id": "ihFSiBGL0tZI",
        "colab_type": "code",
        "outputId": "543d1726-03cf-4566-b7bf-de7c12d96b1b",
        "colab": {
          "base_uri": "https://localhost:8080/",
          "height": 51
        }
      },
      "source": [
        "print('Number of false cases in training ',len(y_train[y_train == 0]))\n",
        "print('Number of false cases in training ',len(y_train[y_train == 1]))"
      ],
      "execution_count": 116,
      "outputs": [
        {
          "output_type": "stream",
          "text": [
            "Number of false cases in training  41300\n",
            "Number of false cases in training  700\n"
          ],
          "name": "stdout"
        }
      ]
    },
    {
      "cell_type": "code",
      "metadata": {
        "id": "yfv-OeNDV87n",
        "colab_type": "code",
        "outputId": "d1d34147-db54-4dc6-e3f3-499eaa99a881",
        "colab": {
          "base_uri": "https://localhost:8080/",
          "height": 51
        }
      },
      "source": [
        "print('Number of false cases in test dataset ',len(y_test[y_test == 0]))\n",
        "print('Number of false cases in test dataset',len(y_test[y_test == 1]))"
      ],
      "execution_count": 117,
      "outputs": [
        {
          "output_type": "stream",
          "text": [
            "Number of false cases in test dataset  17700\n",
            "Number of false cases in test dataset 300\n"
          ],
          "name": "stdout"
        }
      ]
    },
    {
      "cell_type": "code",
      "metadata": {
        "id": "YTBn9RSo-wTI",
        "colab_type": "code",
        "colab": {
          "base_uri": "https://localhost:8080/",
          "height": 34
        },
        "outputId": "18e136a5-a2cb-447d-828b-879da4a49873"
      },
      "source": [
        "(len(y_train[y_train == 0]))/(len(y_train[y_train == 0])+len(y_train[y_train == 1])),(len(y_train[y_train == 1]))/(len(y_train[y_train == 0])+len(y_train[y_train == 1]))"
      ],
      "execution_count": 118,
      "outputs": [
        {
          "output_type": "execute_result",
          "data": {
            "text/plain": [
              "(0.9833333333333333, 0.016666666666666666)"
            ]
          },
          "metadata": {
            "tags": []
          },
          "execution_count": 118
        }
      ]
    },
    {
      "cell_type": "code",
      "metadata": {
        "id": "_mx4WD8b-whE",
        "colab_type": "code",
        "colab": {
          "base_uri": "https://localhost:8080/",
          "height": 34
        },
        "outputId": "7b56436b-1dd7-497f-f365-8973e096375d"
      },
      "source": [
        "(len(y_test[y_test == 0]))/(len(y_test[y_test == 0])+len(y_test[y_test == 1])),(len(y_test[y_test == 1]))/(len(y_test[y_test == 0])+len(y_test[y_test == 1]))"
      ],
      "execution_count": 119,
      "outputs": [
        {
          "output_type": "execute_result",
          "data": {
            "text/plain": [
              "(0.9833333333333333, 0.016666666666666666)"
            ]
          },
          "metadata": {
            "tags": []
          },
          "execution_count": 119
        }
      ]
    },
    {
      "cell_type": "markdown",
      "metadata": {
        "id": "XMV2jrr64vLG",
        "colab_type": "text"
      },
      "source": [
        "##Logistic regression"
      ]
    },
    {
      "cell_type": "code",
      "metadata": {
        "id": "8Ph7ENCa_BEm",
        "colab_type": "code",
        "colab": {
          "base_uri": "https://localhost:8080/",
          "height": 238
        },
        "outputId": "bac6a6e5-fb64-4deb-a439-ce85cf9e6706"
      },
      "source": [
        "from sklearn.linear_model import LogisticRegression\n",
        "model = LogisticRegression(random_state=1)                        #fitting the logistic regression on training set\n",
        "model.fit(x_train,y_train)"
      ],
      "execution_count": 120,
      "outputs": [
        {
          "output_type": "stream",
          "text": [
            "/usr/local/lib/python3.6/dist-packages/sklearn/linear_model/_logistic.py:940: ConvergenceWarning: lbfgs failed to converge (status=1):\n",
            "STOP: TOTAL NO. of ITERATIONS REACHED LIMIT.\n",
            "\n",
            "Increase the number of iterations (max_iter) or scale the data as shown in:\n",
            "    https://scikit-learn.org/stable/modules/preprocessing.html\n",
            "Please also refer to the documentation for alternative solver options:\n",
            "    https://scikit-learn.org/stable/modules/linear_model.html#logistic-regression\n",
            "  extra_warning_msg=_LOGISTIC_SOLVER_CONVERGENCE_MSG)\n"
          ],
          "name": "stderr"
        },
        {
          "output_type": "execute_result",
          "data": {
            "text/plain": [
              "LogisticRegression(C=1.0, class_weight=None, dual=False, fit_intercept=True,\n",
              "                   intercept_scaling=1, l1_ratio=None, max_iter=100,\n",
              "                   multi_class='auto', n_jobs=None, penalty='l2',\n",
              "                   random_state=1, solver='lbfgs', tol=0.0001, verbose=0,\n",
              "                   warm_start=False)"
            ]
          },
          "metadata": {
            "tags": []
          },
          "execution_count": 120
        }
      ]
    },
    {
      "cell_type": "code",
      "metadata": {
        "id": "ChS-QBLm_BQp",
        "colab_type": "code",
        "colab": {}
      },
      "source": [
        "predict = model.predict(x_test)  #predicting the class of test labels"
      ],
      "execution_count": 0,
      "outputs": []
    },
    {
      "cell_type": "code",
      "metadata": {
        "id": "2vcx0VxzAK6M",
        "colab_type": "code",
        "colab": {
          "base_uri": "https://localhost:8080/",
          "height": 34
        },
        "outputId": "2dedfeb1-3d21-464c-ae43-1b0054468311"
      },
      "source": [
        "predict"
      ],
      "execution_count": 122,
      "outputs": [
        {
          "output_type": "execute_result",
          "data": {
            "text/plain": [
              "array([0, 0, 0, ..., 0, 0, 0])"
            ]
          },
          "metadata": {
            "tags": []
          },
          "execution_count": 122
        }
      ]
    },
    {
      "cell_type": "code",
      "metadata": {
        "id": "fPoJbEvH-wqQ",
        "colab_type": "code",
        "colab": {
          "base_uri": "https://localhost:8080/",
          "height": 34
        },
        "outputId": "6f7ef999-7a64-49d9-e947-00244a85c1bd"
      },
      "source": [
        "model.score(x_train,y_train)      #checking the accuracy score for training"
      ],
      "execution_count": 123,
      "outputs": [
        {
          "output_type": "execute_result",
          "data": {
            "text/plain": [
              "0.9902380952380953"
            ]
          },
          "metadata": {
            "tags": []
          },
          "execution_count": 123
        }
      ]
    },
    {
      "cell_type": "code",
      "metadata": {
        "id": "16u9VVqZ_hZI",
        "colab_type": "code",
        "colab": {
          "base_uri": "https://localhost:8080/",
          "height": 34
        },
        "outputId": "072f1f6e-73d0-47c5-a91c-f0fc0d225308"
      },
      "source": [
        "model.score(x_test,y_test)        #checking the accuracy score for testing"
      ],
      "execution_count": 124,
      "outputs": [
        {
          "output_type": "execute_result",
          "data": {
            "text/plain": [
              "0.9892777777777778"
            ]
          },
          "metadata": {
            "tags": []
          },
          "execution_count": 124
        }
      ]
    },
    {
      "cell_type": "code",
      "metadata": {
        "id": "m8ozSorP_hiA",
        "colab_type": "code",
        "colab": {
          "base_uri": "https://localhost:8080/",
          "height": 299
        },
        "outputId": "0d8f8680-ee3f-41aa-ccdb-93f9a8605b20"
      },
      "source": [
        "import seaborn as sns\n",
        "from sklearn.metrics import confusion_matrix,classification_report\n",
        "cm = confusion_matrix(y_test,predict)\n",
        "sns.heatmap(cm,annot=True,fmt='.2f')\n",
        "plt.title('confusion_matrix')         #checking the confusion matrix\n",
        "plt.xlabel('Predicted Class')\n",
        "plt.ylabel('Actua class')\n",
        "plt.show()"
      ],
      "execution_count": 125,
      "outputs": [
        {
          "output_type": "display_data",
          "data": {
            "image/png": "[encoded data removed]",
            "text/plain": [
              "<Figure size 432x288 with 2 Axes>"
            ]
          },
          "metadata": {
            "tags": []
          }
        }
      ]
    },
    {
      "cell_type": "code",
      "metadata": {
        "id": "Cu9GleSn-P6G",
        "colab_type": "code",
        "colab": {
          "base_uri": "https://localhost:8080/",
          "height": 34
        },
        "outputId": "844c052f-55b8-43b3-bfb4-51e9163943e6"
      },
      "source": [
        "#checking recall\n",
        "conf = np.array(confusion_matrix(y_test,predict))\n",
        "fn = conf[1,0]\n",
        "tp = conf[1,1]\n",
        "recall = tp/(tp+fn)\n",
        "print(recall)"
      ],
      "execution_count": 126,
      "outputs": [
        {
          "output_type": "stream",
          "text": [
            "0.5366666666666666\n"
          ],
          "name": "stdout"
        }
      ]
    },
    {
      "cell_type": "markdown",
      "metadata": {
        "id": "iHCwrtjh0rVi",
        "colab_type": "text"
      },
      "source": [
        "##Decision tree"
      ]
    },
    {
      "cell_type": "code",
      "metadata": {
        "id": "kmQnPT8BGNV5",
        "colab_type": "code",
        "colab": {
          "base_uri": "https://localhost:8080/",
          "height": 119
        },
        "outputId": "b72e84d9-f9cb-4b51-c25f-b713c22bf7e4"
      },
      "source": [
        "from sklearn.tree import DecisionTreeClassifier\n",
        "model = DecisionTreeClassifier(random_state=1)  #building model with decision tree\n",
        "model.fit(x_train,y_train)"
      ],
      "execution_count": 127,
      "outputs": [
        {
          "output_type": "execute_result",
          "data": {
            "text/plain": [
              "DecisionTreeClassifier(ccp_alpha=0.0, class_weight=None, criterion='gini',\n",
              "                       max_depth=None, max_features=None, max_leaf_nodes=None,\n",
              "                       min_impurity_decrease=0.0, min_impurity_split=None,\n",
              "                       min_samples_leaf=1, min_samples_split=2,\n",
              "                       min_weight_fraction_leaf=0.0, presort='deprecated',\n",
              "                       random_state=1, splitter='best')"
            ]
          },
          "metadata": {
            "tags": []
          },
          "execution_count": 127
        }
      ]
    },
    {
      "cell_type": "code",
      "metadata": {
        "id": "a38LrcaPGiUz",
        "colab_type": "code",
        "colab": {}
      },
      "source": [
        "predict = model.predict(x_test) #making prediction"
      ],
      "execution_count": 0,
      "outputs": []
    },
    {
      "cell_type": "code",
      "metadata": {
        "id": "MxmPMkwqGirS",
        "colab_type": "code",
        "colab": {
          "base_uri": "https://localhost:8080/",
          "height": 299
        },
        "outputId": "32d9317c-1eba-4d32-99ac-6370675d3717"
      },
      "source": [
        "import seaborn as sns\n",
        "from sklearn.metrics import confusion_matrix,classification_report\n",
        "cm = confusion_matrix(y_test,predict)\n",
        "sns.heatmap(cm,annot=True,fmt='.2f')\n",
        "plt.title('confusion_matrix')         #checking the confusion matrix\n",
        "plt.xlabel('Predicted Class')\n",
        "plt.ylabel('Actua class')\n",
        "plt.show()"
      ],
      "execution_count": 129,
      "outputs": [
        {
          "output_type": "display_data",
          "data": {
            "image/png": "[encoded data removed]",
            "text/plain": [
              "<Figure size 432x288 with 2 Axes>"
            ]
          },
          "metadata": {
            "tags": []
          }
        }
      ]
    },
    {
      "cell_type": "code",
      "metadata": {
        "id": "FEbVh5QYJrlM",
        "colab_type": "code",
        "colab": {
          "base_uri": "https://localhost:8080/",
          "height": 34
        },
        "outputId": "e3c81e14-7c6e-4316-d99b-665b55190bde"
      },
      "source": [
        "model.score(x_test,predict) #checking accuracy score"
      ],
      "execution_count": 130,
      "outputs": [
        {
          "output_type": "execute_result",
          "data": {
            "text/plain": [
              "1.0"
            ]
          },
          "metadata": {
            "tags": []
          },
          "execution_count": 130
        }
      ]
    },
    {
      "cell_type": "code",
      "metadata": {
        "id": "lKgjEEMwJ031",
        "colab_type": "code",
        "colab": {
          "base_uri": "https://localhost:8080/",
          "height": 34
        },
        "outputId": "155e809b-eee7-41dc-e19e-76e925acf1dc"
      },
      "source": [
        "#checking recall\n",
        "conf = np.array(confusion_matrix(y_test,predict))\n",
        "fn = conf[1,0]\n",
        "tp = conf[1,1]\n",
        "recall = tp/(tp+fn)\n",
        "print(recall)"
      ],
      "execution_count": 131,
      "outputs": [
        {
          "output_type": "stream",
          "text": [
            "0.5766666666666667\n"
          ],
          "name": "stdout"
        }
      ]
    },
    {
      "cell_type": "code",
      "metadata": {
        "id": "SSY2d5hnGi6Z",
        "colab_type": "code",
        "colab": {
          "base_uri": "https://localhost:8080/",
          "height": 520
        },
        "outputId": "359df537-b11b-48bf-fed9-9d779bf1cb4e"
      },
      "source": [
        "#checking for feature importance\n",
        "features = train.columns\n",
        "importances = model.feature_importances_\n",
        "indices = (np.argsort(importances))[-30:]\n",
        "plt.figure(figsize=(10,8))\n",
        "plt.title('Feature Importances')\n",
        "plt.bar(range(len(indices)), importances[indices], align='center')\n",
        "plt.xticks(range(len(indices)), [features[i] for i in indices])\n",
        "plt.xlabel('Relative importance')\n",
        "plt.ylabel('% of Importance')\n",
        "plt.xticks(rotation=90)\n",
        "plt.show()"
      ],
      "execution_count": 132,
      "outputs": [
        {
          "output_type": "display_data",
          "data": {
            "image/png": "[encoded data removed]",
            "text/plain": [
              "<Figure size 720x576 with 1 Axes>"
            ]
          },
          "metadata": {
            "tags": []
          }
        }
      ]
    },
    {
      "cell_type": "code",
      "metadata": {
        "id": "c835WE6GECSB",
        "colab_type": "code",
        "colab": {}
      },
      "source": [
        ""
      ],
      "execution_count": 0,
      "outputs": []
    },
    {
      "cell_type": "markdown",
      "metadata": {
        "id": "ecOdNCSO5rJF",
        "colab_type": "text"
      },
      "source": [
        "##Random forest"
      ]
    },
    {
      "cell_type": "code",
      "metadata": {
        "id": "NPul0Wi7NB-i",
        "colab_type": "code",
        "colab": {
          "base_uri": "https://localhost:8080/",
          "height": 153
        },
        "outputId": "e7cbfb10-4bea-4f2a-ccd1-e67ab99c0f55"
      },
      "source": [
        "from sklearn.ensemble import RandomForestClassifier #importing the RandomForestClassifier library for our decision tree classifier\n",
        "model = RandomForestClassifier(n_estimators=1000,random_state=1)    #creating the instance of classifier with 100 trees\n",
        "model.fit(x_train,y_train)                          #fitting our model on training data"
      ],
      "execution_count": 133,
      "outputs": [
        {
          "output_type": "execute_result",
          "data": {
            "text/plain": [
              "RandomForestClassifier(bootstrap=True, ccp_alpha=0.0, class_weight=None,\n",
              "                       criterion='gini', max_depth=None, max_features='auto',\n",
              "                       max_leaf_nodes=None, max_samples=None,\n",
              "                       min_impurity_decrease=0.0, min_impurity_split=None,\n",
              "                       min_samples_leaf=1, min_samples_split=2,\n",
              "                       min_weight_fraction_leaf=0.0, n_estimators=1000,\n",
              "                       n_jobs=None, oob_score=False, random_state=1, verbose=0,\n",
              "                       warm_start=False)"
            ]
          },
          "metadata": {
            "tags": []
          },
          "execution_count": 133
        }
      ]
    },
    {
      "cell_type": "code",
      "metadata": {
        "id": "FxOsfcczNCQa",
        "colab_type": "code",
        "colab": {}
      },
      "source": [
        "predict = model.predict(x_test)"
      ],
      "execution_count": 0,
      "outputs": []
    },
    {
      "cell_type": "code",
      "metadata": {
        "id": "f7xCm1o7MaEh",
        "colab_type": "code",
        "colab": {
          "base_uri": "https://localhost:8080/",
          "height": 299
        },
        "outputId": "8e571fb1-1f20-4300-abfb-893193edb69f"
      },
      "source": [
        "cm = confusion_matrix(y_test,predict)\n",
        "sns.heatmap(cm,annot=True,fmt='.2f')\n",
        "plt.title('confusion_matrix')         #checking the confusion matrix\n",
        "plt.xlabel('Predicted Class')\n",
        "plt.ylabel('Actua class')\n",
        "plt.show()"
      ],
      "execution_count": 135,
      "outputs": [
        {
          "output_type": "display_data",
          "data": {
            "image/png": "[encoded data removed]",
            "text/plain": [
              "<Figure size 432x288 with 2 Axes>"
            ]
          },
          "metadata": {
            "tags": []
          }
        }
      ]
    },
    {
      "cell_type": "code",
      "metadata": {
        "id": "er48WiLVKCql",
        "colab_type": "code",
        "colab": {
          "base_uri": "https://localhost:8080/",
          "height": 34
        },
        "outputId": "fb6c2f5c-2ea1-4f2b-a816-522b55b643fa"
      },
      "source": [
        "model.score(x_test,predict)"
      ],
      "execution_count": 136,
      "outputs": [
        {
          "output_type": "execute_result",
          "data": {
            "text/plain": [
              "1.0"
            ]
          },
          "metadata": {
            "tags": []
          },
          "execution_count": 136
        }
      ]
    },
    {
      "cell_type": "code",
      "metadata": {
        "id": "LFTMFgmf6itI",
        "colab_type": "code",
        "colab": {
          "base_uri": "https://localhost:8080/",
          "height": 34
        },
        "outputId": "e6662686-3e47-48fe-ffdf-31feddb8138e"
      },
      "source": [
        "conf = np.array(confusion_matrix(y_test,predict))\n",
        "fn = conf[1,0]\n",
        "tp = conf[1,1]\n",
        "recall = tp/(tp+fn)\n",
        "print(recall)"
      ],
      "execution_count": 137,
      "outputs": [
        {
          "output_type": "stream",
          "text": [
            "0.61\n"
          ],
          "name": "stdout"
        }
      ]
    },
    {
      "cell_type": "code",
      "metadata": {
        "id": "oUfTcqYP67fl",
        "colab_type": "code",
        "colab": {}
      },
      "source": [
        ""
      ],
      "execution_count": 0,
      "outputs": []
    },
    {
      "cell_type": "markdown",
      "metadata": {
        "id": "pE0NKQjr6-cK",
        "colab_type": "text"
      },
      "source": [
        "##AdaBoost"
      ]
    },
    {
      "cell_type": "code",
      "metadata": {
        "id": "obkBfFUNPv2g",
        "colab_type": "code",
        "colab": {}
      },
      "source": [
        "#preparing decision tree as  base model for AdaBoost\n",
        "from sklearn.tree import DecisionTreeClassifier\n",
        "model = DecisionTreeClassifier(random_state=1)\n",
        "model.fit(x_train,y_train)\n",
        "predict = model.predict(x_test)"
      ],
      "execution_count": 0,
      "outputs": []
    },
    {
      "cell_type": "code",
      "metadata": {
        "id": "5BR2fVFnOm13",
        "colab_type": "code",
        "colab": {}
      },
      "source": [
        "from sklearn.ensemble import AdaBoostClassifier"
      ],
      "execution_count": 0,
      "outputs": []
    },
    {
      "cell_type": "code",
      "metadata": {
        "id": "Nec6xufVOmzD",
        "colab_type": "code",
        "colab": {}
      },
      "source": [
        "#checking accuracy with different estimators\n",
        "acc = []\n",
        "for i in np.arange(50,200,step=50):\n",
        "  classifier = AdaBoostClassifier(\n",
        "      model,\n",
        "      n_estimators= i \n",
        "  )\n",
        "  classifier.fit(x_train, y_train)\n",
        "  predict=classifier.predict(x_test)\n",
        "  acc.append(classifier.score(x_test,y_test))\n",
        "  "
      ],
      "execution_count": 0,
      "outputs": []
    },
    {
      "cell_type": "code",
      "metadata": {
        "id": "ikPSwXcQOmwY",
        "colab_type": "code",
        "colab": {
          "base_uri": "https://localhost:8080/",
          "height": 299
        },
        "outputId": "20b34360-2ec3-472a-f0aa-c8eacc826cad"
      },
      "source": [
        "#plotting acc. with different  estimators\n",
        "import matplotlib.pyplot as plt\n",
        "from matplotlib import style\n",
        "style.use('ggplot')\n",
        "plt.xticks(np.arange(0,9,step=1),np.arange(50,200,step=50))\n",
        "plt.title('Accuracy with different estimators')\n",
        "plt.xlabel('Number of estimators')\n",
        "plt.ylabel('Accuracy')\n",
        "plt.plot(acc)\n",
        "plt.show()"
      ],
      "execution_count": 141,
      "outputs": [
        {
          "output_type": "display_data",
          "data": {
            "image/png": "[encoded data removed]",
            "text/plain": [
              "<Figure size 432x288 with 1 Axes>"
            ]
          },
          "metadata": {
            "tags": []
          }
        }
      ]
    },
    {
      "cell_type": "code",
      "metadata": {
        "id": "D1jYq0D_Omq3",
        "colab_type": "code",
        "colab": {}
      },
      "source": [
        "classifier = AdaBoostClassifier( model,n_estimators=100,random_state=1) #applying adaboost classifier\n",
        "classifier.fit(x_train, y_train)\n",
        "predict=classifier.predict(x_test)"
      ],
      "execution_count": 0,
      "outputs": []
    },
    {
      "cell_type": "code",
      "metadata": {
        "id": "OR7Hza3eQYQK",
        "colab_type": "code",
        "colab": {
          "base_uri": "https://localhost:8080/",
          "height": 299
        },
        "outputId": "e9943467-72cb-4db4-de38-b9b8d22166c3"
      },
      "source": [
        "cm = confusion_matrix(y_test,predict)\n",
        "sns.heatmap(cm,annot=True,fmt='.2f')\n",
        "plt.title('confusion_matrix')         #checking the confusion matrix\n",
        "plt.xlabel('Predicted Class')\n",
        "plt.ylabel('Actua class')\n",
        "plt.show()"
      ],
      "execution_count": 143,
      "outputs": [
        {
          "output_type": "display_data",
          "data": {
            "image/png": "[encoded data removed]",
            "text/plain": [
              "<Figure size 432x288 with 2 Axes>"
            ]
          },
          "metadata": {
            "tags": []
          }
        }
      ]
    },
    {
      "cell_type": "code",
      "metadata": {
        "id": "ZM7lBA-KKpuG",
        "colab_type": "code",
        "colab": {
          "base_uri": "https://localhost:8080/",
          "height": 34
        },
        "outputId": "1eaa26d5-5a64-43cb-9a9b-b6b941065a0c"
      },
      "source": [
        "model.score(x_test,predict)"
      ],
      "execution_count": 144,
      "outputs": [
        {
          "output_type": "execute_result",
          "data": {
            "text/plain": [
              "0.9956111111111111"
            ]
          },
          "metadata": {
            "tags": []
          },
          "execution_count": 144
        }
      ]
    },
    {
      "cell_type": "code",
      "metadata": {
        "id": "L47mARTWKbCq",
        "colab_type": "code",
        "colab": {
          "base_uri": "https://localhost:8080/",
          "height": 34
        },
        "outputId": "74c73a6f-8ca5-460c-981a-bbe161aa93b9"
      },
      "source": [
        "conf = np.array(confusion_matrix(y_test,predict))\n",
        "fn = conf[1,0]\n",
        "tp = conf[1,1]\n",
        "recall = tp/(tp+fn)\n",
        "print(recall)"
      ],
      "execution_count": 145,
      "outputs": [
        {
          "output_type": "stream",
          "text": [
            "0.5533333333333333\n"
          ],
          "name": "stdout"
        }
      ]
    },
    {
      "cell_type": "markdown",
      "metadata": {
        "id": "S4W1RXeQE_U7",
        "colab_type": "text"
      },
      "source": [
        "##lgbm"
      ]
    },
    {
      "cell_type": "code",
      "metadata": {
        "id": "aU994-i5QYeq",
        "colab_type": "code",
        "colab": {}
      },
      "source": [
        "import lightgbm as lgb\n",
        "d_train = lgb.Dataset(x_train,label=y_train)\n",
        "params={}\n",
        "params['task'] = 'train'                        #lgbm with different parameters\n",
        "params['boosting_type'] = \"gbdt\"\n",
        "params['application'] = 'classification'\n",
        "params['objective'] = 'binary'\n",
        "params['metric'] = 'recall'\n",
        "params['random_state'] = 1\n",
        "model = lgb.train(params, d_train, 5000) "
      ],
      "execution_count": 0,
      "outputs": []
    },
    {
      "cell_type": "code",
      "metadata": {
        "id": "5gsXSISbQYsk",
        "colab_type": "code",
        "colab": {}
      },
      "source": [
        "predict = model.predict(x_test)     #predicting test labels"
      ],
      "execution_count": 0,
      "outputs": []
    },
    {
      "cell_type": "code",
      "metadata": {
        "id": "jwO8EoOCQY7V",
        "colab_type": "code",
        "colab": {}
      },
      "source": [
        "from sklearn.metrics import confusion_matrix\n",
        "from sklearn.metrics import roc_auc_score"
      ],
      "execution_count": 0,
      "outputs": []
    },
    {
      "cell_type": "code",
      "metadata": {
        "id": "N3t4C4KBOmnQ",
        "colab_type": "code",
        "colab": {
          "base_uri": "https://localhost:8080/",
          "height": 71
        },
        "outputId": "5ce5cb13-43d5-4205-c873-493cb6571ef3"
      },
      "source": [
        "predict = model.predict(x_test)\n",
        "ROC=[]\n",
        "ACC = []\n",
        "for j in np.arange(0.1,0.99,step=.05):\n",
        "  predict2=np.array(list(predict))\n",
        "  for i in range(len(y_test)):\n",
        "    if predict[i]>=j:\n",
        "      predict2[i]=1               #checking auc and accuracy with different thresholds between 0 an 1\n",
        "    else:\n",
        "      predict2[i]=0\n",
        "  ROC.append(roc_auc_score(predict2,y_test))\n",
        "  conf = confusion_matrix(predict2,y_test)\n",
        "  ACC.append((conf[0,0]+conf[1,1]) / len(y_test))\n",
        "  #print(len(predict2[predict2 == 0]))\n",
        "print(ROC)\n",
        "print(ACC)"
      ],
      "execution_count": 149,
      "outputs": [
        {
          "output_type": "stream",
          "text": [
            "[0.8779217479674796, 0.8797356568838127, 0.8778917365682736, 0.8797839137271011, 0.8821991478315451, 0.8861548001578443, 0.8871994261487526, 0.8919958788112945, 0.8926810843169874, 0.8966334169193328, 0.903293918918919, 0.9050520007966816, 0.9081601329617538, 0.908297493305823, 0.9187566232836216, 0.9251987472898097, 0.9275226549224684, 0.939383010290824]\n",
            "[0.9916666666666667, 0.9914444444444445, 0.9912222222222222, 0.9912222222222222, 0.9912777777777778, 0.9913888888888889, 0.9913888888888889, 0.9914444444444445, 0.9913888888888889, 0.9914444444444445, 0.9916666666666667, 0.9915555555555555, 0.9916111111111111, 0.9914444444444445, 0.9916666666666667, 0.9916666666666667, 0.9915, 0.9916111111111111]\n"
          ],
          "name": "stdout"
        }
      ]
    },
    {
      "cell_type": "code",
      "metadata": {
        "id": "tMhRhHxEREhe",
        "colab_type": "code",
        "colab": {
          "base_uri": "https://localhost:8080/",
          "height": 282
        },
        "outputId": "9b953e7e-8290-41d2-d2cd-5e7202e1713e"
      },
      "source": [
        "import matplotlib.pyplot as plt\n",
        "from matplotlib import style\n",
        "style.use('ggplot')\n",
        "plt.ylabel('AUC SCORE')           #plotting auc and roc with different thresholds points\n",
        "plt.xlabel('Cut off')\n",
        "plt.plot(np.arange(0.1,0.99,step=.05),ROC,label='AUC')\n",
        "plt.plot(np.arange(0.1,0.99,step=.05),ACC,label='Acurracy')\n",
        "plt.legend()\n",
        "plt.show()"
      ],
      "execution_count": 150,
      "outputs": [
        {
          "output_type": "display_data",
          "data": {
            "image/png": "[encoded data removed]",
            "text/plain": [
              "<Figure size 432x288 with 1 Axes>"
            ]
          },
          "metadata": {
            "tags": []
          }
        }
      ]
    },
    {
      "cell_type": "code",
      "metadata": {
        "id": "2zFux-lTREv4",
        "colab_type": "code",
        "colab": {}
      },
      "source": [
        "predict3 = np.array(list(predict))\n",
        "for i in range(len(y_test)):\n",
        "  if predict[i]>=0.5:            #setting the threshold at 0.5\n",
        "    predict3[i]=1\n",
        "  else:\n",
        "    predict3[i]=0"
      ],
      "execution_count": 0,
      "outputs": []
    },
    {
      "cell_type": "code",
      "metadata": {
        "id": "gjVj7ZbOSWeP",
        "colab_type": "code",
        "colab": {
          "base_uri": "https://localhost:8080/",
          "height": 299
        },
        "outputId": "52c3aa92-b90e-47d1-c190-9b3d748d86fb"
      },
      "source": [
        "cm = confusion_matrix(y_test,predict3)\n",
        "sns.heatmap(cm,annot=True,fmt='.2f')\n",
        "plt.title('confusion_matrix')         #checking the confusion matrix\n",
        "plt.xlabel('Predicted Class')\n",
        "plt.ylabel('Actua class')\n",
        "plt.show()"
      ],
      "execution_count": 152,
      "outputs": [
        {
          "output_type": "display_data",
          "data": {
            "image/png": "[encoded data removed]",
            "text/plain": [
              "<Figure size 432x288 with 2 Axes>"
            ]
          },
          "metadata": {
            "tags": []
          }
        }
      ]
    },
    {
      "cell_type": "code",
      "metadata": {
        "id": "Y7abSMyEKylZ",
        "colab_type": "code",
        "colab": {
          "base_uri": "https://localhost:8080/",
          "height": 34
        },
        "outputId": "c9e7ea8c-f8cd-473a-d14a-a2dcdd853fcc"
      },
      "source": [
        "conf = np.array(confusion_matrix(y_test,predict3))\n",
        "fn = conf[1,0]\n",
        "tp = conf[1,1]\n",
        "recall = tp/(tp+fn)\n",
        "print(recall)"
      ],
      "execution_count": 155,
      "outputs": [
        {
          "output_type": "stream",
          "text": [
            "0.6566666666666666\n"
          ],
          "name": "stdout"
        }
      ]
    },
    {
      "cell_type": "code",
      "metadata": {
        "id": "AgqG7KenQcRQ",
        "colab_type": "code",
        "colab": {
          "base_uri": "https://localhost:8080/",
          "height": 170
        },
        "outputId": "9930a3f8-0efc-4709-c1fa-6b5a2f00b2a6"
      },
      "source": [
        "print(classification_report(y_test,predict3))"
      ],
      "execution_count": 157,
      "outputs": [
        {
          "output_type": "stream",
          "text": [
            "              precision    recall  f1-score   support\n",
            "\n",
            "           0       0.99      1.00      1.00     17700\n",
            "           1       0.79      0.66      0.72       300\n",
            "\n",
            "    accuracy                           0.99     18000\n",
            "   macro avg       0.89      0.83      0.86     18000\n",
            "weighted avg       0.99      0.99      0.99     18000\n",
            "\n"
          ],
          "name": "stdout"
        }
      ]
    },
    {
      "cell_type": "code",
      "metadata": {
        "id": "sQaNIHVxK_0E",
        "colab_type": "code",
        "colab": {}
      },
      "source": [
        "#as we can see lgbm outperforms everyother model\n",
        "#we will use lgbm on our test data"
      ],
      "execution_count": 0,
      "outputs": []
    },
    {
      "cell_type": "code",
      "metadata": {
        "id": "L8bT4TOsNcfX",
        "colab_type": "code",
        "colab": {}
      },
      "source": [
        "test_predict = model.predict(x_test)"
      ],
      "execution_count": 0,
      "outputs": []
    },
    {
      "cell_type": "code",
      "metadata": {
        "id": "o9Y4xbztLAAW",
        "colab_type": "code",
        "colab": {}
      },
      "source": [
        "for i in range(len(x_test)):\n",
        "  if test_predict[i]>=0.5:            #setting the threshold at 0.5\n",
        "    test_predict[i]=1\n",
        "  else:\n",
        "    test_predict[i]=0"
      ],
      "execution_count": 0,
      "outputs": []
    },
    {
      "cell_type": "code",
      "metadata": {
        "id": "miWSqyICLAUg",
        "colab_type": "code",
        "colab": {}
      },
      "source": [
        "submission=pd.DataFrame(test_predict)"
      ],
      "execution_count": 0,
      "outputs": []
    },
    {
      "cell_type": "code",
      "metadata": {
        "id": "-Kqn0xqkYj5i",
        "colab_type": "code",
        "colab": {}
      },
      "source": [
        "#ThankYou"
      ],
      "execution_count": 0,
      "outputs": []
    }
  ]
}